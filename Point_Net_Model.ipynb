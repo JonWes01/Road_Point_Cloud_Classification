{
 "cells": [
  {
   "cell_type": "markdown",
   "id": "e4ed7976",
   "metadata": {},
   "source": [
    "# PointNet Model \n"
   ]
  },
  {
   "cell_type": "markdown",
   "id": "e38e4896",
   "metadata": {},
   "source": [
    "### Custom Dataset"
   ]
  },
  {
   "cell_type": "code",
   "execution_count": 1,
   "id": "e55e326f",
   "metadata": {},
   "outputs": [],
   "source": [
    "import os\n",
    "import numpy as np\n",
    "import torch\n",
    "from torch.utils.data import Dataset\n",
    "\n",
    "class RoadPointCloudDataset(Dataset):\n",
    "    def __init__(self, data_dir, class_names, num_points=1024, transform=None):\n",
    "        self.data_dir = data_dir\n",
    "        self.class_names = class_names\n",
    "        self.num_points = num_points\n",
    "        self.transform = transform\n",
    "        self.data = []\n",
    "\n",
    "        for label_idx, class_name in enumerate(class_names):\n",
    "            class_folder = os.path.join(data_dir, class_name)\n",
    "            for fname in os.listdir(class_folder):\n",
    "                if fname.endswith(\".npy\"):\n",
    "                    self.data.append((os.path.join(class_folder, fname), label_idx))\n",
    "\n",
    "    def __len__(self):\n",
    "        return len(self.data)\n",
    "\n",
    "    def __getitem__(self, idx):\n",
    "        file_path, label = self.data[idx]\n",
    "        point_cloud = np.load(file_path)\n",
    "\n",
    "        \n",
    "        point_cloud = point_cloud[:, :22]\n",
    "\n",
    "        if point_cloud.shape[0] >= self.num_points:\n",
    "            indices = np.random.choice(point_cloud.shape[0], self.num_points, replace=False)\n",
    "        else:\n",
    "            pad = np.zeros((self.num_points - point_cloud.shape[0], point_cloud.shape[1]))\n",
    "            point_cloud = np.vstack((point_cloud, pad))\n",
    "            indices = np.arange(self.num_points)\n",
    "\n",
    "        sampled = point_cloud[indices]\n",
    "\n",
    "        if self.transform:\n",
    "            sampled = self.transform(sampled)\n",
    "\n",
    "        return torch.tensor(sampled, dtype=torch.float32), torch.tensor(label, dtype=torch.long)\n"
   ]
  },
  {
   "cell_type": "code",
   "execution_count": 2,
   "id": "2fea454c",
   "metadata": {},
   "outputs": [
    {
     "name": "stdout",
     "output_type": "stream",
     "text": [
      "torch.Size([1024, 22])\n",
      "tensor(0)\n"
     ]
    }
   ],
   "source": [
    "# Your class labels (folder names)\n",
    "labels = [\"2lanes\", \"3lanes\", \"crossing\", \"split4lanes\", \"split6lanes\", \"transition\"]\n",
    "\n",
    "# Create dataset object\n",
    "dataset = RoadPointCloudDataset(data_dir=\"dataset\", class_names=labels, num_points=1024)\n",
    "\n",
    "# Load a sample\n",
    "sample_points, sample_label = dataset[0]\n",
    "print(sample_points.shape)  # should be (1024, 7)\n",
    "print(sample_label)         # class label as integer"
   ]
  },
  {
   "cell_type": "markdown",
   "id": "aeedf1c5",
   "metadata": {},
   "source": [
    "### PointNet Classifier Code"
   ]
  },
  {
   "cell_type": "code",
   "execution_count": 4,
   "id": "25bf3e90",
   "metadata": {},
   "outputs": [],
   "source": [
    "import torch\n",
    "import torch.nn as nn\n",
    "import torch.nn.functional as F\n",
    "\n",
    "class PointNetClassifier(nn.Module):\n",
    "    def __init__(self, input_dim=7, num_classes=6):\n",
    "        super(PointNetClassifier, self).__init__()\n",
    "\n",
    "        self.conv1 = nn.Conv1d(input_dim, 64, 1)\n",
    "        self.bn1 = nn.BatchNorm1d(64)\n",
    "\n",
    "        self.conv2 = nn.Conv1d(64, 128, 1)\n",
    "        self.bn2 = nn.BatchNorm1d(128)\n",
    "\n",
    "        self.conv3 = nn.Conv1d(128, 1024, 1)\n",
    "        self.bn3 = nn.BatchNorm1d(1024)\n",
    "\n",
    "        self.fc1 = nn.Linear(1024, 512)\n",
    "        self.bn4 = nn.BatchNorm1d(512)\n",
    "        self.drop1 = nn.Dropout(0.3)\n",
    "\n",
    "        self.fc2 = nn.Linear(512, 256)\n",
    "        self.bn5 = nn.BatchNorm1d(256)\n",
    "        self.drop2 = nn.Dropout(0.3)\n",
    "\n",
    "        self.fc3 = nn.Linear(256, num_classes)\n",
    "\n",
    "    def forward(self, x):\n",
    "        # x shape: [batch_size, num_points, input_dim]\n",
    "        x = x.transpose(1, 2)  # → [batch_size, input_dim, num_points]\n",
    "\n",
    "        x = F.relu(self.bn1(self.conv1(x)))\n",
    "        x = F.relu(self.bn2(self.conv2(x)))\n",
    "        x = F.relu(self.bn3(self.conv3(x)))\n",
    "\n",
    "        x = torch.max(x, 2)[0]  # global max pooling\n",
    "\n",
    "        x = F.relu(self.bn4(self.fc1(x)))\n",
    "        x = self.drop1(x)\n",
    "\n",
    "        x = F.relu(self.bn5(self.fc2(x)))\n",
    "        x = self.drop2(x)\n",
    "\n",
    "        x = self.fc3(x)\n",
    "        return x\n"
   ]
  },
  {
   "cell_type": "markdown",
   "id": "1e1c622e",
   "metadata": {},
   "source": [
    "### Training & Evaluation "
   ]
  },
  {
   "cell_type": "code",
   "execution_count": 5,
   "id": "b2e12b04",
   "metadata": {},
   "outputs": [
    {
     "name": "stdout",
     "output_type": "stream",
     "text": [
      "Epoch 1/20 | Loss: 103.1512\n",
      "Epoch 2/20 | Loss: 87.8217\n",
      "Epoch 3/20 | Loss: 86.6286\n",
      "Epoch 4/20 | Loss: 81.4027\n",
      "Epoch 5/20 | Loss: 81.8159\n",
      "Epoch 6/20 | Loss: 73.8707\n",
      "Epoch 7/20 | Loss: 73.0428\n",
      "Epoch 8/20 | Loss: 69.7834\n",
      "Epoch 9/20 | Loss: 67.2731\n",
      "Epoch 10/20 | Loss: 67.2994\n",
      "Epoch 11/20 | Loss: 64.9580\n",
      "Epoch 12/20 | Loss: 64.6251\n",
      "Epoch 13/20 | Loss: 62.9773\n",
      "Epoch 14/20 | Loss: 60.8847\n",
      "Epoch 15/20 | Loss: 62.9397\n",
      "Epoch 16/20 | Loss: 62.9030\n",
      "Epoch 17/20 | Loss: 60.4651\n",
      "Epoch 18/20 | Loss: 57.0048\n",
      "Epoch 19/20 | Loss: 55.8142\n",
      "Epoch 20/20 | Loss: 57.6206\n",
      "\n",
      "✅ Final Test Accuracy: 0.4947\n"
     ]
    }
   ],
   "source": [
    "import torch\n",
    "from torch.utils.data import DataLoader\n",
    "import torch.nn as nn\n",
    "import torch.optim as optim\n",
    "from sklearn.metrics import accuracy_score\n",
    "\n",
    "# 1. Prepare Data\n",
    "labels = [\"2lanes\", \"3lanes\", \"crossing\", \"split4lanes\", \"split6lanes\", \"transition\"]\n",
    "\n",
    "# Create full dataset\n",
    "dataset = RoadPointCloudDataset(data_dir=\"dataset\", class_names=labels, num_points=1024)\n",
    "\n",
    "# Split into train/test\n",
    "from sklearn.model_selection import train_test_split\n",
    "indices = list(range(len(dataset)))\n",
    "train_idx, test_idx = train_test_split(indices, test_size=0.2, random_state=42)\n",
    "\n",
    "from torch.utils.data import Subset\n",
    "train_dataset = Subset(dataset, train_idx)\n",
    "test_dataset = Subset(dataset, test_idx)\n",
    "\n",
    "train_loader = DataLoader(train_dataset, batch_size=16, shuffle=True)\n",
    "test_loader = DataLoader(test_dataset, batch_size=16)\n",
    "\n",
    "# 2. Initialize Model, Loss, Optimizer\n",
    "device = torch.device(\"cuda\" if torch.cuda.is_available() else \"cpu\")\n",
    "model = PointNetClassifier(input_dim=22, num_classes=6)\n",
    "\n",
    "criterion = nn.CrossEntropyLoss()\n",
    "optimizer = optim.Adam(model.parameters(), lr=0.001)\n",
    "\n",
    "# 3. Training Loop\n",
    "num_epochs = 20\n",
    "for epoch in range(num_epochs):\n",
    "    model.train()\n",
    "    running_loss = 0.0\n",
    "    for points, labels_batch in train_loader:\n",
    "        points, labels_batch = points.to(device), labels_batch.to(device)\n",
    "\n",
    "        optimizer.zero_grad()\n",
    "        outputs = model(points)\n",
    "        loss = criterion(outputs, labels_batch)\n",
    "        loss.backward()\n",
    "        optimizer.step()\n",
    "\n",
    "        running_loss += loss.item()\n",
    "\n",
    "    print(f\"Epoch {epoch+1}/{num_epochs} | Loss: {running_loss:.4f}\")\n",
    "\n",
    "# 4. Evaluation\n",
    "model.eval()\n",
    "all_preds = []\n",
    "all_targets = []\n",
    "\n",
    "with torch.no_grad():\n",
    "    for points, labels_batch in test_loader:\n",
    "        points, labels_batch = points.to(device), labels_batch.to(device)\n",
    "        outputs = model(points)\n",
    "        preds = torch.argmax(outputs, dim=1)\n",
    "        all_preds.extend(preds.cpu().numpy())\n",
    "        all_targets.extend(labels_batch.cpu().numpy())\n",
    "\n",
    "accuracy = accuracy_score(all_targets, all_preds)\n",
    "print(f\"\\n✅ Final Test Accuracy: {accuracy:.4f}\")\n"
   ]
  },
  {
   "cell_type": "markdown",
   "id": "a83b4c27",
   "metadata": {},
   "source": [
    "### Metrics Report"
   ]
  },
  {
   "cell_type": "code",
   "execution_count": 33,
   "id": "b48b84ed",
   "metadata": {},
   "outputs": [
    {
     "name": "stdout",
     "output_type": "stream",
     "text": [
      "              precision    recall  f1-score   support\n",
      "\n",
      "      2lanes       0.87      0.80      0.83        91\n",
      "      3lanes       0.56      0.11      0.19        44\n",
      "    crossing       0.00      0.00      0.00        28\n",
      " split4lanes       0.33      0.55      0.41        33\n",
      " split6lanes       0.35      0.92      0.50        39\n",
      "  transition       0.48      0.30      0.37        50\n",
      "\n",
      "    accuracy                           0.52       285\n",
      "   macro avg       0.43      0.45      0.39       285\n",
      "weighted avg       0.53      0.52      0.48       285\n",
      "\n"
     ]
    }
   ],
   "source": [
    "from sklearn.metrics import classification_report\n",
    "\n",
    "target_names = [\"2lanes\", \"3lanes\", \"crossing\", \"split4lanes\", \"split6lanes\", \"transition\"]\n",
    "print(classification_report(all_targets, all_preds, target_names=target_names))\n"
   ]
  },
  {
   "cell_type": "markdown",
   "id": "c7ff495d",
   "metadata": {},
   "source": [
    "### Confusion Matrix"
   ]
  },
  {
   "cell_type": "code",
   "execution_count": 34,
   "id": "552cec56",
   "metadata": {},
   "outputs": [
    {
     "data": {
      "image/png": "[encoded data removed]",
      "text/plain": [
       "<Figure size 640x480 with 2 Axes>"
      ]
     },
     "metadata": {},
     "output_type": "display_data"
    }
   ],
   "source": [
    "from sklearn.metrics import confusion_matrix, ConfusionMatrixDisplay\n",
    "import matplotlib.pyplot as plt\n",
    "\n",
    "cm = confusion_matrix(all_targets, all_preds)\n",
    "disp = ConfusionMatrixDisplay(confusion_matrix=cm, display_labels=target_names)\n",
    "disp.plot(cmap=\"Blues\", xticks_rotation=45)\n",
    "plt.title(\"PointNet Confusion Matrix (22 features)\")\n",
    "plt.show()\n"
   ]
  },
  {
   "cell_type": "markdown",
   "id": "a86106b0",
   "metadata": {},
   "source": [
    "### Visualize a Prediction in 3D"
   ]
  },
  {
   "cell_type": "code",
   "execution_count": 37,
   "id": "8c42b8e7",
   "metadata": {},
   "outputs": [
    {
     "data": {
      "application/vnd.plotly.v1+json": {
       "config": {
        "plotlyServerURL": "https://plot.ly"
       },
       "data": [
        {
         "marker": {
          "color": {
           "bdata": "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",
           "dtype": "f4"
          },
          "colorscale": [
           [
            0,
            "#440154"
           ],
           [
            0.1111111111111111,
            "#482878"
           ],
           [
            0.2222222222222222,
            "#3e4989"
           ],
           [
            0.3333333333333333,
            "#31688e"
           ],
           [
            0.4444444444444444,
            "#26828e"
           ],
           [
            0.5555555555555556,
            "#1f9e89"
           ],
           [
            0.6666666666666666,
            "#35b779"
           ],
           [
            0.7777777777777778,
            "#6ece58"
           ],
           [
            0.8888888888888888,
            "#b5de2b"
           ],
           [
            1,
            "#fde725"
           ]
          ],
          "opacity": 0.8,
          "size": 2
         },
         "mode": "markers",
         "type": "scatter3d",
         "x": {
          "bdata": "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",
          "dtype": "f4"
         },
         "y": {
          "bdata": "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",
          "dtype": "f4"
         },
         "z": {
          "bdata": "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",
          "dtype": "f4"
         }
        }
       ],
       "layout": {
        "margin": {
         "b": 0,
         "l": 0,
         "r": 0,
         "t": 40
        },
        "scene": {
         "xaxis": {
          "title": {
           "text": "X"
          }
         },
         "yaxis": {
          "title": {
           "text": "Y"
          }
         },
         "zaxis": {
          "title": {
           "text": "Z"
          }
         }
        },
        "template": {
         "data": {
          "bar": [
           {
            "error_x": {
             "color": "#2a3f5f"
            },
            "error_y": {
             "color": "#2a3f5f"
            },
            "marker": {
             "line": {
              "color": "#E5ECF6",
              "width": 0.5
             },
             "pattern": {
              "fillmode": "overlay",
              "size": 10,
              "solidity": 0.2
             }
            },
            "type": "bar"
           }
          ],
          "barpolar": [
           {
            "marker": {
             "line": {
              "color": "#E5ECF6",
              "width": 0.5
             },
             "pattern": {
              "fillmode": "overlay",
              "size": 10,
              "solidity": 0.2
             }
            },
            "type": "barpolar"
           }
          ],
          "carpet": [
           {
            "aaxis": {
             "endlinecolor": "#2a3f5f",
             "gridcolor": "white",
             "linecolor": "white",
             "minorgridcolor": "white",
             "startlinecolor": "#2a3f5f"
            },
            "baxis": {
             "endlinecolor": "#2a3f5f",
             "gridcolor": "white",
             "linecolor": "white",
             "minorgridcolor": "white",
             "startlinecolor": "#2a3f5f"
            },
            "type": "carpet"
           }
          ],
          "choropleth": [
           {
            "colorbar": {
             "outlinewidth": 0,
             "ticks": ""
            },
            "type": "choropleth"
           }
          ],
          "contour": [
           {
            "colorbar": {
             "outlinewidth": 0,
             "ticks": ""
            },
            "colorscale": [
             [
              0,
              "#0d0887"
             ],
             [
              0.1111111111111111,
              "#46039f"
             ],
             [
              0.2222222222222222,
              "#7201a8"
             ],
             [
              0.3333333333333333,
              "#9c179e"
             ],
             [
              0.4444444444444444,
              "#bd3786"
             ],
             [
              0.5555555555555556,
              "#d8576b"
             ],
             [
              0.6666666666666666,
              "#ed7953"
             ],
             [
              0.7777777777777778,
              "#fb9f3a"
             ],
             [
              0.8888888888888888,
              "#fdca26"
             ],
             [
              1,
              "#f0f921"
             ]
            ],
            "type": "contour"
           }
          ],
          "contourcarpet": [
           {
            "colorbar": {
             "outlinewidth": 0,
             "ticks": ""
            },
            "type": "contourcarpet"
           }
          ],
          "heatmap": [
           {
            "colorbar": {
             "outlinewidth": 0,
             "ticks": ""
            },
            "colorscale": [
             [
              0,
              "#0d0887"
             ],
             [
              0.1111111111111111,
              "#46039f"
             ],
             [
              0.2222222222222222,
              "#7201a8"
             ],
             [
              0.3333333333333333,
              "#9c179e"
             ],
             [
              0.4444444444444444,
              "#bd3786"
             ],
             [
              0.5555555555555556,
              "#d8576b"
             ],
             [
              0.6666666666666666,
              "#ed7953"
             ],
             [
              0.7777777777777778,
              "#fb9f3a"
             ],
             [
              0.8888888888888888,
              "#fdca26"
             ],
             [
              1,
              "#f0f921"
             ]
            ],
            "type": "heatmap"
           }
          ],
          "histogram": [
           {
            "marker": {
             "pattern": {
              "fillmode": "overlay",
              "size": 10,
              "solidity": 0.2
             }
            },
            "type": "histogram"
           }
          ],
          "histogram2d": [
           {
            "colorbar": {
             "outlinewidth": 0,
             "ticks": ""
            },
            "colorscale": [
             [
              0,
              "#0d0887"
             ],
             [
              0.1111111111111111,
              "#46039f"
             ],
             [
              0.2222222222222222,
              "#7201a8"
             ],
             [
              0.3333333333333333,
              "#9c179e"
             ],
             [
              0.4444444444444444,
              "#bd3786"
             ],
             [
              0.5555555555555556,
              "#d8576b"
             ],
             [
              0.6666666666666666,
              "#ed7953"
             ],
             [
              0.7777777777777778,
              "#fb9f3a"
             ],
             [
              0.8888888888888888,
              "#fdca26"
             ],
             [
              1,
              "#f0f921"
             ]
            ],
            "type": "histogram2d"
           }
          ],
          "histogram2dcontour": [
           {
            "colorbar": {
             "outlinewidth": 0,
             "ticks": ""
            },
            "colorscale": [
             [
              0,
              "#0d0887"
             ],
             [
              0.1111111111111111,
              "#46039f"
             ],
             [
              0.2222222222222222,
              "#7201a8"
             ],
             [
              0.3333333333333333,
              "#9c179e"
             ],
             [
              0.4444444444444444,
              "#bd3786"
             ],
             [
              0.5555555555555556,
              "#d8576b"
             ],
             [
              0.6666666666666666,
              "#ed7953"
             ],
             [
              0.7777777777777778,
              "#fb9f3a"
             ],
             [
              0.8888888888888888,
              "#fdca26"
             ],
             [
              1,
              "#f0f921"
             ]
            ],
            "type": "histogram2dcontour"
           }
          ],
          "mesh3d": [
           {
            "colorbar": {
             "outlinewidth": 0,
             "ticks": ""
            },
            "type": "mesh3d"
           }
          ],
          "parcoords": [
           {
            "line": {
             "colorbar": {
              "outlinewidth": 0,
              "ticks": ""
             }
            },
            "type": "parcoords"
           }
          ],
          "pie": [
           {
            "automargin": true,
            "type": "pie"
           }
          ],
          "scatter": [
           {
            "fillpattern": {
             "fillmode": "overlay",
             "size": 10,
             "solidity": 0.2
            },
            "type": "scatter"
           }
          ],
          "scatter3d": [
           {
            "line": {
             "colorbar": {
              "outlinewidth": 0,
              "ticks": ""
             }
            },
            "marker": {
             "colorbar": {
              "outlinewidth": 0,
              "ticks": ""
             }
            },
            "type": "scatter3d"
           }
          ],
          "scattercarpet": [
           {
            "marker": {
             "colorbar": {
              "outlinewidth": 0,
              "ticks": ""
             }
            },
            "type": "scattercarpet"
           }
          ],
          "scattergeo": [
           {
            "marker": {
             "colorbar": {
              "outlinewidth": 0,
              "ticks": ""
             }
            },
            "type": "scattergeo"
           }
          ],
          "scattergl": [
           {
            "marker": {
             "colorbar": {
              "outlinewidth": 0,
              "ticks": ""
             }
            },
            "type": "scattergl"
           }
          ],
          "scattermap": [
           {
            "marker": {
             "colorbar": {
              "outlinewidth": 0,
              "ticks": ""
             }
            },
            "type": "scattermap"
           }
          ],
          "scattermapbox": [
           {
            "marker": {
             "colorbar": {
              "outlinewidth": 0,
              "ticks": ""
             }
            },
            "type": "scattermapbox"
           }
          ],
          "scatterpolar": [
           {
            "marker": {
             "colorbar": {
              "outlinewidth": 0,
              "ticks": ""
             }
            },
            "type": "scatterpolar"
           }
          ],
          "scatterpolargl": [
           {
            "marker": {
             "colorbar": {
              "outlinewidth": 0,
              "ticks": ""
             }
            },
            "type": "scatterpolargl"
           }
          ],
          "scatterternary": [
           {
            "marker": {
             "colorbar": {
              "outlinewidth": 0,
              "ticks": ""
             }
            },
            "type": "scatterternary"
           }
          ],
          "surface": [
           {
            "colorbar": {
             "outlinewidth": 0,
             "ticks": ""
            },
            "colorscale": [
             [
              0,
              "#0d0887"
             ],
             [
              0.1111111111111111,
              "#46039f"
             ],
             [
              0.2222222222222222,
              "#7201a8"
             ],
             [
              0.3333333333333333,
              "#9c179e"
             ],
             [
              0.4444444444444444,
              "#bd3786"
             ],
             [
              0.5555555555555556,
              "#d8576b"
             ],
             [
              0.6666666666666666,
              "#ed7953"
             ],
             [
              0.7777777777777778,
              "#fb9f3a"
             ],
             [
              0.8888888888888888,
              "#fdca26"
             ],
             [
              1,
              "#f0f921"
             ]
            ],
            "type": "surface"
           }
          ],
          "table": [
           {
            "cells": {
             "fill": {
              "color": "#EBF0F8"
             },
             "line": {
              "color": "white"
             }
            },
            "header": {
             "fill": {
              "color": "#C8D4E3"
             },
             "line": {
              "color": "white"
             }
            },
            "type": "table"
           }
          ]
         },
         "layout": {
          "annotationdefaults": {
           "arrowcolor": "#2a3f5f",
           "arrowhead": 0,
           "arrowwidth": 1
          },
          "autotypenumbers": "strict",
          "coloraxis": {
           "colorbar": {
            "outlinewidth": 0,
            "ticks": ""
           }
          },
          "colorscale": {
           "diverging": [
            [
             0,
             "#8e0152"
            ],
            [
             0.1,
             "#c51b7d"
            ],
            [
             0.2,
             "#de77ae"
            ],
            [
             0.3,
             "#f1b6da"
            ],
            [
             0.4,
             "#fde0ef"
            ],
            [
             0.5,
             "#f7f7f7"
            ],
            [
             0.6,
             "#e6f5d0"
            ],
            [
             0.7,
             "#b8e186"
            ],
            [
             0.8,
             "#7fbc41"
            ],
            [
             0.9,
             "#4d9221"
            ],
            [
             1,
             "#276419"
            ]
           ],
           "sequential": [
            [
             0,
             "#0d0887"
            ],
            [
             0.1111111111111111,
             "#46039f"
            ],
            [
             0.2222222222222222,
             "#7201a8"
            ],
            [
             0.3333333333333333,
             "#9c179e"
            ],
            [
             0.4444444444444444,
             "#bd3786"
            ],
            [
             0.5555555555555556,
             "#d8576b"
            ],
            [
             0.6666666666666666,
             "#ed7953"
            ],
            [
             0.7777777777777778,
             "#fb9f3a"
            ],
            [
             0.8888888888888888,
             "#fdca26"
            ],
            [
             1,
             "#f0f921"
            ]
           ],
           "sequentialminus": [
            [
             0,
             "#0d0887"
            ],
            [
             0.1111111111111111,
             "#46039f"
            ],
            [
             0.2222222222222222,
             "#7201a8"
            ],
            [
             0.3333333333333333,
             "#9c179e"
            ],
            [
             0.4444444444444444,
             "#bd3786"
            ],
            [
             0.5555555555555556,
             "#d8576b"
            ],
            [
             0.6666666666666666,
             "#ed7953"
            ],
            [
             0.7777777777777778,
             "#fb9f3a"
            ],
            [
             0.8888888888888888,
             "#fdca26"
            ],
            [
             1,
             "#f0f921"
            ]
           ]
          },
          "colorway": [
           "#636efa",
           "#EF553B",
           "#00cc96",
           "#ab63fa",
           "#FFA15A",
           "#19d3f3",
           "#FF6692",
           "#B6E880",
           "#FF97FF",
           "#FECB52"
          ],
          "font": {
           "color": "#2a3f5f"
          },
          "geo": {
           "bgcolor": "white",
           "lakecolor": "white",
           "landcolor": "#E5ECF6",
           "showlakes": true,
           "showland": true,
           "subunitcolor": "white"
          },
          "hoverlabel": {
           "align": "left"
          },
          "hovermode": "closest",
          "mapbox": {
           "style": "light"
          },
          "paper_bgcolor": "white",
          "plot_bgcolor": "#E5ECF6",
          "polar": {
           "angularaxis": {
            "gridcolor": "white",
            "linecolor": "white",
            "ticks": ""
           },
           "bgcolor": "#E5ECF6",
           "radialaxis": {
            "gridcolor": "white",
            "linecolor": "white",
            "ticks": ""
           }
          },
          "scene": {
           "xaxis": {
            "backgroundcolor": "#E5ECF6",
            "gridcolor": "white",
            "gridwidth": 2,
            "linecolor": "white",
            "showbackground": true,
            "ticks": "",
            "zerolinecolor": "white"
           },
           "yaxis": {
            "backgroundcolor": "#E5ECF6",
            "gridcolor": "white",
            "gridwidth": 2,
            "linecolor": "white",
            "showbackground": true,
            "ticks": "",
            "zerolinecolor": "white"
           },
           "zaxis": {
            "backgroundcolor": "#E5ECF6",
            "gridcolor": "white",
            "gridwidth": 2,
            "linecolor": "white",
            "showbackground": true,
            "ticks": "",
            "zerolinecolor": "white"
           }
          },
          "shapedefaults": {
           "line": {
            "color": "#2a3f5f"
           }
          },
          "ternary": {
           "aaxis": {
            "gridcolor": "white",
            "linecolor": "white",
            "ticks": ""
           },
           "baxis": {
            "gridcolor": "white",
            "linecolor": "white",
            "ticks": ""
           },
           "bgcolor": "#E5ECF6",
           "caxis": {
            "gridcolor": "white",
            "linecolor": "white",
            "ticks": ""
           }
          },
          "title": {
           "x": 0.05
          },
          "xaxis": {
           "automargin": true,
           "gridcolor": "white",
           "linecolor": "white",
           "ticks": "",
           "title": {
            "standoff": 15
           },
           "zerolinecolor": "white",
           "zerolinewidth": 2
          },
          "yaxis": {
           "automargin": true,
           "gridcolor": "white",
           "linecolor": "white",
           "ticks": "",
           "title": {
            "standoff": 15
           },
           "zerolinecolor": "white",
           "zerolinewidth": 2
          }
         }
        },
        "title": {
         "text": "True: 3lanes | Predicted: 2lanes"
        }
       }
      }
     },
     "metadata": {},
     "output_type": "display_data"
    }
   ],
   "source": [
    "import plotly.graph_objects as go\n",
    "\n",
    "# Sample 3D point cloud\n",
    "sample_points, true_label = test_dataset[0]\n",
    "sample_points_input = sample_points.unsqueeze(0).to(device)\n",
    "\n",
    "# Predict\n",
    "model.eval()\n",
    "with torch.no_grad():\n",
    "    pred = torch.argmax(model(sample_points_input)).item()\n",
    "\n",
    "# Plot\n",
    "fig = go.Figure(data=[go.Scatter3d(\n",
    "    x=sample_points[:, 0],  # local x\n",
    "    y=sample_points[:, 1],  # local y\n",
    "    z=sample_points[:, 2],  # local z\n",
    "    mode='markers',\n",
    "    marker=dict(\n",
    "        size=2,\n",
    "        color=sample_points[:, 9],  # color by intensity\n",
    "        colorscale='Viridis',\n",
    "        opacity=0.8\n",
    "    )\n",
    ")])\n",
    "fig.update_layout(\n",
    "    title=f\"True: {target_names[true_label]} | Predicted: {target_names[pred]}\",\n",
    "    scene=dict(xaxis_title='X', yaxis_title='Y', zaxis_title='Z'),\n",
    "    margin=dict(l=0, r=0, b=0, t=40)\n",
    ")\n",
    "fig.show()\n"
   ]
  },
  {
   "cell_type": "markdown",
   "id": "490ae904",
   "metadata": {},
   "source": [
    "### global coordinate"
   ]
  },
  {
   "cell_type": "code",
   "execution_count": 38,
   "id": "c568d5ab",
   "metadata": {},
   "outputs": [],
   "source": [
    "global_x = sample_points[:, 6]  # feature 6\n",
    "global_y = sample_points[:, 7]  # feature 7\n"
   ]
  },
  {
   "cell_type": "markdown",
   "id": "8a30899e",
   "metadata": {},
   "source": [
    "### Visualize Location in 3D"
   ]
  },
  {
   "cell_type": "code",
   "execution_count": 39,
   "id": "e878b463",
   "metadata": {},
   "outputs": [
    {
     "data": {
      "application/vnd.plotly.v1+json": {
       "config": {
        "plotlyServerURL": "https://plot.ly"
       },
       "data": [
        {
         "marker": {
          "color": {
           "bdata": "AD68RgCgzEYAvA1HADTXRgDewUYAggBHACwSRwAnA0cArrJGAL7RRgDXHEcA3g9HAE4URwCw3UYAdhdHAJAURwCIwUYAViBHAHrURgDLE0cAkthGAPDSRgCaC0cAMQFHAHgJRwAaD0cABrNGAHLTRgDg+kYAzMxGAJT1RgB0zEYAmNJGAHEPRwA+50YAzMVGAEcaRwDbC0cAOxhHAOLeRgD04UYAMvNGACDbRgAy7EYATsZGAJYVRwBqtUYACwlHAGbfRgBC0kYAbwRHAIbWRgDGBEcA6NhGAIUERwDSzUYAcghHAAjeRgDq0UYAOOZGAMbERgBoykYA1tVGAKzHRgAEyEYA3shGAJrLRgAQ0UYARO9GAFIKRwAy7EYAss9GAHYXRwAmEUcASBNHAErwRgC0ukYAXuxGAA4GRwDSzUYA/vhGAIIARwABC0cA0CJHAATBRgCy1kYAUPFGANrrRgD3DEcAnuFGAKC+RgAo3EYAGPZGAP7GRgD+/0YAKNxGAGEQRwDmtEYAgvJGAGUNRwA8EUcArMdGAJanRgA8w0YAWs9GADLzRgBKHkcAKNVGAJDfRgATFUcAxgtHABMVRwAU50YANglHAJcHRwBVDkcAKNxGAK8SRwBS40YAnPZGAPcMRwD++EYAvtFGAKoDRwDNHkcAFAdHAG79RgDW1UYANAVHAOjmRgAqx0YAoQVHABbLRgD4BUcA3ARHAEAgRwBsB0cAlLxGABcLRwBaFkcAHNNGAFoWRwBqFUcAFAdHAOLeRgAQw0YAQwRHAH0YRwBm30YApOJGAEMERwCay0YA+uJGADYJRwAG5UYAMuVGAMbERgBPDUcAovBGAFEYRwA8ykYA0NtGAIDORgDu4EYApwZHALUTRwCDEkcAsAtHADjmRgDtFUcA+LdGAMa9RgAC3UYA4gVHAAYTRwDc5EYAYvtGAAoQRwAu1kYAGRZHAPsJRwAK+0YAyA9HADLsRgAED0cAlMNGACzrRgB6FEcAurtGADTeRgDIFkcASMxGAHIIRwD2zEYAvthGAA7YRgBKt0YAVMdGAGcYRwAO2EYALw9HACgcRwA0BUcA+L5GAHr/RgDu4EYADRRHALkQRwCUw0YAYNdGALblRgCWDkcA3sFGALzfRgCpEUcAUAZHAA8YRwBNIkcAzAVHAFgLRwDc3UYA4gxHAKrjRgC6wkYA0OJGAEjMRgD4t0YACwJHADLsRgC8DUcADt9GADrRRgD+DUcAarVGAEsQRwAO30YAvxFHALbsRgCMF0cASNNGAPThRgA62EYAlMpGAKDMRgBLEEcA/NtGAJANRwDgAUcAvQZHAIDORgCe00YAAxZHAK0HRwCaC0cAmOBGABoIRwCeAUcAQwtHANLNRgCk20YAiPpGACzkRgBG6EYABPpGAOzDRgDyvUYAQstGAGzgRgBfDEcA0sZGANbcRgC87UYAzL5GALDdRgAS/EYAbv1GAGzSRgDI70YAJL9GAJ8TRwBC0kYAcuFGAPDSRgAczEYAxNJGAI77RgAYBEcA4BpHAH0RRwC40EYAwuBGABgERwCsx0YA8sRGAKMQRwCq40YA+L5GADrYRgDsvEYAyOhGAEkFRwAa6EYAytNGAITrRgAczEYA+uJGAMgWRwDQ20YAftxGAPToRgA2EEcArM5GAFLcRgCmv0YAsg9HAGDQRgAcxUYA3shGAC7dRgAo1UYApRRHAPELRwA010YAqOpGACQGRwA010YAISJHAHoURwCpEUcA/sZGAAAZRwA010YAIs1GAGEQRwCYAEcAUL9GAHa+RgBy4UYAludGAArCRgAaD0cAjsJGACr5RgAi1EYAWAtHAJTKRgDrCkcA9tNGACjVRgBQv0YAoMxGAK6yRgA2CUcApsZGAGDeRgDyxEYA/M1GAIzXRgAgEEcA+uJGAKTiRgCMF0cAXPpGAEbaRgAY/UYA/r9GAITrRgDgGkcA7wdHAMTLRgAECEcA4tdGAIQLRwCI+kYAiLNGALr0RgCCskYAXAhHAPK9RgAY9kYAQwRHAOjfRgB44kYA9QhHAGj8RgBYC0cAYNBGAP4GRwBUzkYAvspGAMjhRgCXB0cAytNGAAbsRgDsw0YAgvlGAA7fRgAGE0cA1tVGAC7PRgBI00YABuVGAGDeRgC0+kYAFwtHAEDgRgAYHUcAFQBHACIbRwBPDUcAiuVGALzfRgBnEUcAbr1GAKEFRwBCy0YAqPFGAHLhRgCwC0cAfgpHADYJRwBAB0cAVrlGAOrKRgBk7UYAKsdGAJbnRgB8v0YAOPRGACkORwB0/kYAVM5GAArQRgDsvEYAcBZHAC8PRwC25UYAINtGAPi3RgCuGUcAHQxHAKbNRgBwtkYAMRpHAC7dRgC830YADRRHAIDVRgC2DEcA9tNGAPwbRwCBDkcA2wtHAB8XRwBY3UYARPZGAMa9RgDy/UYAludGAFTVRgDSv0YAQwRHAK0HRwD200YAYsJGAB7wRgBiyUYA9O9GAC7PRgDDB0cAGyFHAKa/RgBcyEYAdulGAAbzRgAQ0UYALQtHAFb5RgCzCEcA2MBGAOzDRgC6u0YASMxGADrRRgDOEEcAjRBHAOTJRgCmv0YA2MBGAJCtRgCpMUcADK1GACIbRwBNG0cAWQRHAHLhRgCUw0YAgQdHAHsGRwA8ykYA7g5HANbjRgA+tUYActpGAHQTRwCw5EYAZthGAA0NRwBUHEcA+R5HAIoMRwBs0kYAFhJHAJYVRwD3E0cA+MVGAEYIRwDu7kYAKsBGAELERgD7CUcAdvBGAOIFRwC2JUcAIAlHANrrRgBuxEYAEMpGALbeRgB+40YAvspGAKcGRwBQBkcAfRFHAEq+RgA8ykYAENFGAFYARwAS7kYA9O9GAEbhRgBRGEcA/v9GAEAHRwBC/UYAdhdHAMjhRgCK5UYAugJHAAIERwDk0EYAJRhHAHb3RgBUx0YASvdGADzKRgCCskYACslGAKTURgDYDkcAoL5GAIrsRgC/EUcA2M5GABDDRgApFUcAjvRGABzTRgAI3kYAcQ9HACjVRgAyE0cAdP5GAMrTRgCqA0cAlMpGAFTORgD+DUcAvN9GAOTJRgCU9UYAWQRHANsSRwBIzEYAKgdHALALRwBVDkcAsN1GANDbRgASvEYA4gVHAFTHRgCAFUcAss9GAPQPRwCBB0cAEMpGAKTiRgBA2UYAABlHAITrRgBktEYA8MtGAKDMRgDMxUYAhN1GAPUhRwC8DUcA7wBHAJkZRwCS2EYAKrlGAPj3RgBS6kYAeCJHAFbARgBsB0cAZxhHAPsJRwBg0EYAtixHAFcZRwCE60YAQstGAGT0RgBNAkcAytNGAD4cRwDu4EYAcgFHAHcQRwBiyUYACslGAHAWRwAE+kYARRZHAIbWRgB7BkcAvspGAK6yRgA010YAbNlGAGIJRwBi+0YAFtJGANzdRgCmzUYAnLZGALUTRwAEwUYA3ORGAC8WRwAo3EYAWtZGACoHRwBW+UYANrtGALkQRwA00EYAGRZHACzkRgDaGUcAUtxGAOrRRgAO30YA/r9GAP7GRgCtB0cAUgpHAHLhRgA9A0cA9QhHAFrWRgDmAkcAesZGAIbPRgCrHEcAwLxGAHIIRwDSxkYAChBHAF6sRgAEwUYAjsJGADTeRgA630YA5BBHANzkRgDQAkcAJMZGAH8DRwCK7EYAPw5HANLGRgB28EYAGP1GACkORwDE2UYAOgZHAFIRRwCUvEYAbNJGALq7RgBq50YAYNBGAALdRgBg0EYAoxBHAK7ARgB26UYAZBRHAIrsRgA/DkcAVMdGAIbWRgBY3UYA5MJGAG69RgBg3kYAGL1GAEjMRgDA9UYAbNlGAL7KRgAKyUYAXPNGANDiRgD68EYApsZGAGi8RgCdKEcASvdGAObtRgD200YAWQRHADDBRgCW50YA9O9GAJrLRgBiyUYAiMFGANjARgC1E0cAdAxHALblRgDC7kYA1OpGAIjBRgD81EYAiAhHAEsQRwANDUcAUP9GANkARwDFEkcA/NtGAPDZRgCc6EYAzwlHABj9RgBhF0cAtwVHANDURgAS9UYAGg9HAHQTRwBKt0YAewZHANq5RgCUvEYAXPpGALasRgBPDUcARK9GAGcYRwB+40YAGP1GAA8YRwCe2kYAlLxGAEDZRgCdCEcAAORGAA8YRwCGFkcAvO1GAHDvRgAQykYAbgtHAIrlRgACHUcAtMFGABDKRgCICEcANhBHAG7ERgDC4EYAMMhGAEjFRgAq+UYA9OFGACoHRwBiwkYAdAxHAKLpRgCgxUYAJRhHAD0DRwDYwEYACtBGAMADRwALCUcAZt9GAMMHRwDgAUcAPrxGACrARgAnA0cATOlGAA7mRgAVAEcAVQ5HALbeRgDSv0YAHNNGAEISRwCMyUYAsAtHANr5RgDqykYAAt1GALALRwBg0EYAFOdGALMIRwDiBUcACtBGAEjMRgBcukYA9tNGAKTbRgAA5EYAvthGADLzRgAQw0YAcqhGAALdRgAg6UYANvtGAPsJRwDOF0cAHBNHAKMQRwAo1UYA6OZGADzKRgBoCkcAQsRGAOYCRwBoCkcAPMNGAIbWRgAcxUYAwg5HAGjDRgBY3UYA/M1GAO7nRgDo2EYAsORGAJbnRgB0E0cA/NRGAJrLRgAu3UYAYNBGAJcHRwB6zUYArhlHAD7nRgBG4UYA2QBHAEboRgD64kYAENFGABzTRgCpEUcAXMhGAFIKRwBs0kYAurtGALLPRgDA/EYA4OxGAO8HRwCtB0cA0wZHAJq9RgAet0YA/rhGAEL9RgDM90YASMxGAGbRRgAM9EYAkhhHAGsORwD200YAjMlGADLsRgDu4EYAFtJGAJQDRwAxGkcAOQ1HAPDLRgBU1UYA6hhHAOLXRgAa6EYA4gxHANS4RgDg80YAhQRHAES2RgAQykYAMhNHAMYLRwCY4EYAfgpHABkWRwBs4EYA2MBGABTgRgCW7kYADthGADsYRwBCy0YAcgFHANzdRgDGtkYAfxxHAEbaRgAW0kYA8gRHAHLTRgDo5kYAbr1GAB4FRwAcxUYAKRVHACjVRgA00EYAZthGAALdRgDez0YAlMNGAAjXRgAGukYAXwxHAKMJRwAa6EYAqgpHAC7dRgAizUYAGP1GAITkRgD0D0cAIw1HAPUIRwAU50YAQOBGAHa+RgDdFkcAXuxGAHTMRgCwBEcAXwVHALIWRwA03kYA+uJGAOTQRgBPDUcA/rhGAFb5RgA8EUcAAt1GAMoBRwD++EYAcOhGAELLRgDG9kYAHvBGAMbERgBDC0cAytpGAJbnRgBoCkcAYsJGACcKRwACHUcAgQdHAMsTRwDyBEcAwPVGACzkRgC0ukYALBJHAF8FRwBiyUYAvtFGADDIRgAQ0UYAsN1GACsZRwDeyEYAHvBGAA7fRgAY9kYA8sRGAOUJRwDGC0cA3NZGABK8Rg==",
           "dtype": "f4"
          },
          "colorscale": [
           [
            0,
            "#440154"
           ],
           [
            0.1111111111111111,
            "#482878"
           ],
           [
            0.2222222222222222,
            "#3e4989"
           ],
           [
            0.3333333333333333,
            "#31688e"
           ],
           [
            0.4444444444444444,
            "#26828e"
           ],
           [
            0.5555555555555556,
            "#1f9e89"
           ],
           [
            0.6666666666666666,
            "#35b779"
           ],
           [
            0.7777777777777778,
            "#6ece58"
           ],
           [
            0.8888888888888888,
            "#b5de2b"
           ],
           [
            1,
            "#fde725"
           ]
          ],
          "opacity": 0.7,
          "size": 2
         },
         "mode": "markers",
         "type": "scatter3d",
         "x": {
          "bdata": "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",
          "dtype": "f4"
         },
         "y": {
          "bdata": "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",
          "dtype": "f4"
         },
         "z": {
          "bdata": "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",
          "dtype": "f4"
         }
        }
       ],
       "layout": {
        "margin": {
         "b": 0,
         "l": 0,
         "r": 0,
         "t": 40
        },
        "scene": {
         "xaxis": {
          "title": {
           "text": "Global X"
          }
         },
         "yaxis": {
          "title": {
           "text": "Global Y"
          }
         },
         "zaxis": {
          "title": {
           "text": "Elevation (Z)"
          }
         }
        },
        "template": {
         "data": {
          "bar": [
           {
            "error_x": {
             "color": "#2a3f5f"
            },
            "error_y": {
             "color": "#2a3f5f"
            },
            "marker": {
             "line": {
              "color": "#E5ECF6",
              "width": 0.5
             },
             "pattern": {
              "fillmode": "overlay",
              "size": 10,
              "solidity": 0.2
             }
            },
            "type": "bar"
           }
          ],
          "barpolar": [
           {
            "marker": {
             "line": {
              "color": "#E5ECF6",
              "width": 0.5
             },
             "pattern": {
              "fillmode": "overlay",
              "size": 10,
              "solidity": 0.2
             }
            },
            "type": "barpolar"
           }
          ],
          "carpet": [
           {
            "aaxis": {
             "endlinecolor": "#2a3f5f",
             "gridcolor": "white",
             "linecolor": "white",
             "minorgridcolor": "white",
             "startlinecolor": "#2a3f5f"
            },
            "baxis": {
             "endlinecolor": "#2a3f5f",
             "gridcolor": "white",
             "linecolor": "white",
             "minorgridcolor": "white",
             "startlinecolor": "#2a3f5f"
            },
            "type": "carpet"
           }
          ],
          "choropleth": [
           {
            "colorbar": {
             "outlinewidth": 0,
             "ticks": ""
            },
            "type": "choropleth"
           }
          ],
          "contour": [
           {
            "colorbar": {
             "outlinewidth": 0,
             "ticks": ""
            },
            "colorscale": [
             [
              0,
              "#0d0887"
             ],
             [
              0.1111111111111111,
              "#46039f"
             ],
             [
              0.2222222222222222,
              "#7201a8"
             ],
             [
              0.3333333333333333,
              "#9c179e"
             ],
             [
              0.4444444444444444,
              "#bd3786"
             ],
             [
              0.5555555555555556,
              "#d8576b"
             ],
             [
              0.6666666666666666,
              "#ed7953"
             ],
             [
              0.7777777777777778,
              "#fb9f3a"
             ],
             [
              0.8888888888888888,
              "#fdca26"
             ],
             [
              1,
              "#f0f921"
             ]
            ],
            "type": "contour"
           }
          ],
          "contourcarpet": [
           {
            "colorbar": {
             "outlinewidth": 0,
             "ticks": ""
            },
            "type": "contourcarpet"
           }
          ],
          "heatmap": [
           {
            "colorbar": {
             "outlinewidth": 0,
             "ticks": ""
            },
            "colorscale": [
             [
              0,
              "#0d0887"
             ],
             [
              0.1111111111111111,
              "#46039f"
             ],
             [
              0.2222222222222222,
              "#7201a8"
             ],
             [
              0.3333333333333333,
              "#9c179e"
             ],
             [
              0.4444444444444444,
              "#bd3786"
             ],
             [
              0.5555555555555556,
              "#d8576b"
             ],
             [
              0.6666666666666666,
              "#ed7953"
             ],
             [
              0.7777777777777778,
              "#fb9f3a"
             ],
             [
              0.8888888888888888,
              "#fdca26"
             ],
             [
              1,
              "#f0f921"
             ]
            ],
            "type": "heatmap"
           }
          ],
          "histogram": [
           {
            "marker": {
             "pattern": {
              "fillmode": "overlay",
              "size": 10,
              "solidity": 0.2
             }
            },
            "type": "histogram"
           }
          ],
          "histogram2d": [
           {
            "colorbar": {
             "outlinewidth": 0,
             "ticks": ""
            },
            "colorscale": [
             [
              0,
              "#0d0887"
             ],
             [
              0.1111111111111111,
              "#46039f"
             ],
             [
              0.2222222222222222,
              "#7201a8"
             ],
             [
              0.3333333333333333,
              "#9c179e"
             ],
             [
              0.4444444444444444,
              "#bd3786"
             ],
             [
              0.5555555555555556,
              "#d8576b"
             ],
             [
              0.6666666666666666,
              "#ed7953"
             ],
             [
              0.7777777777777778,
              "#fb9f3a"
             ],
             [
              0.8888888888888888,
              "#fdca26"
             ],
             [
              1,
              "#f0f921"
             ]
            ],
            "type": "histogram2d"
           }
          ],
          "histogram2dcontour": [
           {
            "colorbar": {
             "outlinewidth": 0,
             "ticks": ""
            },
            "colorscale": [
             [
              0,
              "#0d0887"
             ],
             [
              0.1111111111111111,
              "#46039f"
             ],
             [
              0.2222222222222222,
              "#7201a8"
             ],
             [
              0.3333333333333333,
              "#9c179e"
             ],
             [
              0.4444444444444444,
              "#bd3786"
             ],
             [
              0.5555555555555556,
              "#d8576b"
             ],
             [
              0.6666666666666666,
              "#ed7953"
             ],
             [
              0.7777777777777778,
              "#fb9f3a"
             ],
             [
              0.8888888888888888,
              "#fdca26"
             ],
             [
              1,
              "#f0f921"
             ]
            ],
            "type": "histogram2dcontour"
           }
          ],
          "mesh3d": [
           {
            "colorbar": {
             "outlinewidth": 0,
             "ticks": ""
            },
            "type": "mesh3d"
           }
          ],
          "parcoords": [
           {
            "line": {
             "colorbar": {
              "outlinewidth": 0,
              "ticks": ""
             }
            },
            "type": "parcoords"
           }
          ],
          "pie": [
           {
            "automargin": true,
            "type": "pie"
           }
          ],
          "scatter": [
           {
            "fillpattern": {
             "fillmode": "overlay",
             "size": 10,
             "solidity": 0.2
            },
            "type": "scatter"
           }
          ],
          "scatter3d": [
           {
            "line": {
             "colorbar": {
              "outlinewidth": 0,
              "ticks": ""
             }
            },
            "marker": {
             "colorbar": {
              "outlinewidth": 0,
              "ticks": ""
             }
            },
            "type": "scatter3d"
           }
          ],
          "scattercarpet": [
           {
            "marker": {
             "colorbar": {
              "outlinewidth": 0,
              "ticks": ""
             }
            },
            "type": "scattercarpet"
           }
          ],
          "scattergeo": [
           {
            "marker": {
             "colorbar": {
              "outlinewidth": 0,
              "ticks": ""
             }
            },
            "type": "scattergeo"
           }
          ],
          "scattergl": [
           {
            "marker": {
             "colorbar": {
              "outlinewidth": 0,
              "ticks": ""
             }
            },
            "type": "scattergl"
           }
          ],
          "scattermap": [
           {
            "marker": {
             "colorbar": {
              "outlinewidth": 0,
              "ticks": ""
             }
            },
            "type": "scattermap"
           }
          ],
          "scattermapbox": [
           {
            "marker": {
             "colorbar": {
              "outlinewidth": 0,
              "ticks": ""
             }
            },
            "type": "scattermapbox"
           }
          ],
          "scatterpolar": [
           {
            "marker": {
             "colorbar": {
              "outlinewidth": 0,
              "ticks": ""
             }
            },
            "type": "scatterpolar"
           }
          ],
          "scatterpolargl": [
           {
            "marker": {
             "colorbar": {
              "outlinewidth": 0,
              "ticks": ""
             }
            },
            "type": "scatterpolargl"
           }
          ],
          "scatterternary": [
           {
            "marker": {
             "colorbar": {
              "outlinewidth": 0,
              "ticks": ""
             }
            },
            "type": "scatterternary"
           }
          ],
          "surface": [
           {
            "colorbar": {
             "outlinewidth": 0,
             "ticks": ""
            },
            "colorscale": [
             [
              0,
              "#0d0887"
             ],
             [
              0.1111111111111111,
              "#46039f"
             ],
             [
              0.2222222222222222,
              "#7201a8"
             ],
             [
              0.3333333333333333,
              "#9c179e"
             ],
             [
              0.4444444444444444,
              "#bd3786"
             ],
             [
              0.5555555555555556,
              "#d8576b"
             ],
             [
              0.6666666666666666,
              "#ed7953"
             ],
             [
              0.7777777777777778,
              "#fb9f3a"
             ],
             [
              0.8888888888888888,
              "#fdca26"
             ],
             [
              1,
              "#f0f921"
             ]
            ],
            "type": "surface"
           }
          ],
          "table": [
           {
            "cells": {
             "fill": {
              "color": "#EBF0F8"
             },
             "line": {
              "color": "white"
             }
            },
            "header": {
             "fill": {
              "color": "#C8D4E3"
             },
             "line": {
              "color": "white"
             }
            },
            "type": "table"
           }
          ]
         },
         "layout": {
          "annotationdefaults": {
           "arrowcolor": "#2a3f5f",
           "arrowhead": 0,
           "arrowwidth": 1
          },
          "autotypenumbers": "strict",
          "coloraxis": {
           "colorbar": {
            "outlinewidth": 0,
            "ticks": ""
           }
          },
          "colorscale": {
           "diverging": [
            [
             0,
             "#8e0152"
            ],
            [
             0.1,
             "#c51b7d"
            ],
            [
             0.2,
             "#de77ae"
            ],
            [
             0.3,
             "#f1b6da"
            ],
            [
             0.4,
             "#fde0ef"
            ],
            [
             0.5,
             "#f7f7f7"
            ],
            [
             0.6,
             "#e6f5d0"
            ],
            [
             0.7,
             "#b8e186"
            ],
            [
             0.8,
             "#7fbc41"
            ],
            [
             0.9,
             "#4d9221"
            ],
            [
             1,
             "#276419"
            ]
           ],
           "sequential": [
            [
             0,
             "#0d0887"
            ],
            [
             0.1111111111111111,
             "#46039f"
            ],
            [
             0.2222222222222222,
             "#7201a8"
            ],
            [
             0.3333333333333333,
             "#9c179e"
            ],
            [
             0.4444444444444444,
             "#bd3786"
            ],
            [
             0.5555555555555556,
             "#d8576b"
            ],
            [
             0.6666666666666666,
             "#ed7953"
            ],
            [
             0.7777777777777778,
             "#fb9f3a"
            ],
            [
             0.8888888888888888,
             "#fdca26"
            ],
            [
             1,
             "#f0f921"
            ]
           ],
           "sequentialminus": [
            [
             0,
             "#0d0887"
            ],
            [
             0.1111111111111111,
             "#46039f"
            ],
            [
             0.2222222222222222,
             "#7201a8"
            ],
            [
             0.3333333333333333,
             "#9c179e"
            ],
            [
             0.4444444444444444,
             "#bd3786"
            ],
            [
             0.5555555555555556,
             "#d8576b"
            ],
            [
             0.6666666666666666,
             "#ed7953"
            ],
            [
             0.7777777777777778,
             "#fb9f3a"
            ],
            [
             0.8888888888888888,
             "#fdca26"
            ],
            [
             1,
             "#f0f921"
            ]
           ]
          },
          "colorway": [
           "#636efa",
           "#EF553B",
           "#00cc96",
           "#ab63fa",
           "#FFA15A",
           "#19d3f3",
           "#FF6692",
           "#B6E880",
           "#FF97FF",
           "#FECB52"
          ],
          "font": {
           "color": "#2a3f5f"
          },
          "geo": {
           "bgcolor": "white",
           "lakecolor": "white",
           "landcolor": "#E5ECF6",
           "showlakes": true,
           "showland": true,
           "subunitcolor": "white"
          },
          "hoverlabel": {
           "align": "left"
          },
          "hovermode": "closest",
          "mapbox": {
           "style": "light"
          },
          "paper_bgcolor": "white",
          "plot_bgcolor": "#E5ECF6",
          "polar": {
           "angularaxis": {
            "gridcolor": "white",
            "linecolor": "white",
            "ticks": ""
           },
           "bgcolor": "#E5ECF6",
           "radialaxis": {
            "gridcolor": "white",
            "linecolor": "white",
            "ticks": ""
           }
          },
          "scene": {
           "xaxis": {
            "backgroundcolor": "#E5ECF6",
            "gridcolor": "white",
            "gridwidth": 2,
            "linecolor": "white",
            "showbackground": true,
            "ticks": "",
            "zerolinecolor": "white"
           },
           "yaxis": {
            "backgroundcolor": "#E5ECF6",
            "gridcolor": "white",
            "gridwidth": 2,
            "linecolor": "white",
            "showbackground": true,
            "ticks": "",
            "zerolinecolor": "white"
           },
           "zaxis": {
            "backgroundcolor": "#E5ECF6",
            "gridcolor": "white",
            "gridwidth": 2,
            "linecolor": "white",
            "showbackground": true,
            "ticks": "",
            "zerolinecolor": "white"
           }
          },
          "shapedefaults": {
           "line": {
            "color": "#2a3f5f"
           }
          },
          "ternary": {
           "aaxis": {
            "gridcolor": "white",
            "linecolor": "white",
            "ticks": ""
           },
           "baxis": {
            "gridcolor": "white",
            "linecolor": "white",
            "ticks": ""
           },
           "bgcolor": "#E5ECF6",
           "caxis": {
            "gridcolor": "white",
            "linecolor": "white",
            "ticks": ""
           }
          },
          "title": {
           "x": 0.05
          },
          "xaxis": {
           "automargin": true,
           "gridcolor": "white",
           "linecolor": "white",
           "ticks": "",
           "title": {
            "standoff": 15
           },
           "zerolinecolor": "white",
           "zerolinewidth": 2
          },
          "yaxis": {
           "automargin": true,
           "gridcolor": "white",
           "linecolor": "white",
           "ticks": "",
           "title": {
            "standoff": 15
           },
           "zerolinecolor": "white",
           "zerolinewidth": 2
          }
         }
        },
        "title": {
         "text": "3D Location View of Point Cloud (Real Coordinates)"
        }
       }
      }
     },
     "metadata": {},
     "output_type": "display_data"
    }
   ],
   "source": [
    "import plotly.graph_objects as go\n",
    "\n",
    "# Select a sample from the test set\n",
    "sample_points, true_label = test_dataset[0]\n",
    "sample_points = sample_points.cpu().numpy()\n",
    "\n",
    "# Extract global coordinates and height\n",
    "x_global = sample_points[:, 6]  # global X\n",
    "y_global = sample_points[:, 7]  # global Y\n",
    "z_height = sample_points[:, 2]  # local Z\n",
    "intensity = sample_points[:, 9]  # intensity (for color)\n",
    "\n",
    "# Plot in 3D space\n",
    "fig = go.Figure(data=[go.Scatter3d(\n",
    "    x=x_global,\n",
    "    y=y_global,\n",
    "    z=z_height,\n",
    "    mode='markers',\n",
    "    marker=dict(\n",
    "        size=2,\n",
    "        color=intensity,\n",
    "        colorscale='Viridis',\n",
    "        opacity=0.7\n",
    "    )\n",
    ")])\n",
    "\n",
    "fig.update_layout(\n",
    "    title=\"3D Location View of Point Cloud (Real Coordinates)\",\n",
    "    scene=dict(\n",
    "        xaxis_title=\"Global X\",\n",
    "        yaxis_title=\"Global Y\",\n",
    "        zaxis_title=\"Elevation (Z)\"\n",
    "    ),\n",
    "    margin=dict(l=0, r=0, b=0, t=40)\n",
    ")\n",
    "\n",
    "fig.show()\n"
   ]
  },
  {
   "cell_type": "markdown",
   "id": "fa07da37",
   "metadata": {},
   "source": [
    "### Simple RandLA-Inspired Network(NOT WORKING)"
   ]
  },
  {
   "cell_type": "code",
   "execution_count": 25,
   "id": "b6e9733b",
   "metadata": {},
   "outputs": [],
   "source": [
    "class RandLASimpleClassifier(nn.Module):\n",
    "    def __init__(self, input_dim=7, num_classes=6):\n",
    "        super(RandLASimpleClassifier, self).__init__()\n",
    "\n",
    "        self.conv1 = nn.Conv1d(input_dim, 128, 1)\n",
    "        self.bn1 = nn.BatchNorm1d(128)\n",
    "\n",
    "        self.conv2 = nn.Conv1d(128, 256, 1)\n",
    "        self.bn2 = nn.BatchNorm1d(256)\n",
    "\n",
    "        self.conv3 = nn.Conv1d(256, 512, 1)\n",
    "        self.bn3 = nn.BatchNorm1d(512)\n",
    "\n",
    "        self.global_pool = nn.AdaptiveMaxPool1d(1)\n",
    "\n",
    "        self.fc1 = nn.Linear(512, 256)\n",
    "        self.fc2 = nn.Linear(256, 128)\n",
    "        self.fc3 = nn.Linear(128, num_classes)\n",
    "\n",
    "    def forward(self, x):\n",
    "        x = x.transpose(1, 2)\n",
    "\n",
    "        x = F.relu(self.bn1(self.conv1(x)))\n",
    "        x = F.relu(self.bn2(self.conv2(x)))\n",
    "        x = F.relu(self.bn3(self.conv3(x)))\n",
    "\n",
    "        x = self.global_pool(x).squeeze(-1)\n",
    "\n",
    "        x = F.relu(self.fc1(x))\n",
    "        x = F.relu(self.fc2(x))\n",
    "        return self.fc3(x)"
   ]
  },
  {
   "cell_type": "code",
   "execution_count": 17,
   "id": "0b955d3d",
   "metadata": {},
   "outputs": [],
   "source": [
    "model = RandLASimpleClassifier(input_dim=7, num_classes=6).to(device)\n"
   ]
  },
  {
   "cell_type": "markdown",
   "id": "8101eecd",
   "metadata": {},
   "source": [
    "### training"
   ]
  },
  {
   "cell_type": "code",
   "execution_count": 26,
   "id": "2dcf67be",
   "metadata": {},
   "outputs": [
    {
     "name": "stdout",
     "output_type": "stream",
     "text": [
      "Epoch 1/20 | Loss: 124.7360\n",
      "Epoch 2/20 | Loss: 125.0267\n",
      "Epoch 3/20 | Loss: 125.1700\n",
      "Epoch 4/20 | Loss: 124.8346\n",
      "Epoch 5/20 | Loss: 124.9698\n",
      "Epoch 6/20 | Loss: 124.8416\n",
      "Epoch 7/20 | Loss: 124.9031\n",
      "Epoch 8/20 | Loss: 124.7680\n",
      "Epoch 9/20 | Loss: 124.8753\n",
      "Epoch 10/20 | Loss: 124.3814\n",
      "Epoch 11/20 | Loss: 124.5931\n",
      "Epoch 12/20 | Loss: 125.0676\n",
      "Epoch 13/20 | Loss: 124.6235\n",
      "Epoch 14/20 | Loss: 124.1646\n",
      "Epoch 15/20 | Loss: 124.2345\n",
      "Epoch 16/20 | Loss: 123.9041\n",
      "Epoch 17/20 | Loss: 124.2438\n",
      "Epoch 18/20 | Loss: 124.6652\n",
      "Epoch 19/20 | Loss: 123.8914\n",
      "Epoch 20/20 | Loss: 124.3088\n"
     ]
    }
   ],
   "source": [
    "for epoch in range(num_epochs):\n",
    "    model.train()\n",
    "    running_loss = 0.0\n",
    "    for points, labels_batch in train_loader:\n",
    "        points, labels_batch = points.to(device), labels_batch.to(device)\n",
    "\n",
    "        optimizer.zero_grad()\n",
    "        outputs = model(points)\n",
    "        loss = criterion(outputs, labels_batch)\n",
    "        loss.backward()\n",
    "        optimizer.step()\n",
    "\n",
    "        running_loss += loss.item()\n",
    "\n",
    "    print(f\"Epoch {epoch+1}/{num_epochs} | Loss: {running_loss:.4f}\")\n"
   ]
  },
  {
   "cell_type": "code",
   "execution_count": null,
   "id": "9d4c5026",
   "metadata": {},
   "outputs": [
    {
     "name": "stdout",
     "output_type": "stream",
     "text": [
      "Model output shape: torch.Size([13, 6])\n",
      "Labels shape: torch.Size([13])\n"
     ]
    }
   ],
   "source": [
    "print(\"Model output shape:\", outputs.shape)\n",
    "print(\"Labels shape:\", labels_batch.shape)\n"
   ]
  },
  {
   "cell_type": "markdown",
   "id": "82658f06",
   "metadata": {},
   "source": [
    "### Evaluate It"
   ]
  },
  {
   "cell_type": "code",
   "execution_count": 21,
   "id": "ea0d3919",
   "metadata": {},
   "outputs": [
    {
     "name": "stdout",
     "output_type": "stream",
     "text": [
      "✅ Accuracy: 0.3192982456140351\n"
     ]
    }
   ],
   "source": [
    "model.eval()\n",
    "all_preds = []\n",
    "all_targets = []\n",
    "\n",
    "with torch.no_grad():\n",
    "    for points, labels_batch in test_loader:\n",
    "        points, labels_batch = points.to(device), labels_batch.to(device)\n",
    "        outputs = model(points)\n",
    "        preds = torch.argmax(outputs, dim=1)\n",
    "        all_preds.extend(preds.cpu().numpy())\n",
    "        all_targets.extend(labels_batch.cpu().numpy())\n",
    "\n",
    "# Print Accuracy + Confusion Matrix\n",
    "print(\"✅ Accuracy:\", accuracy_score(all_targets, all_preds))\n"
   ]
  }
 ],
 "metadata": {
  "kernelspec": {
   "display_name": "sklearn-env",
   "language": "python",
   "name": "python3"
  },
  "language_info": {
   "codemirror_mode": {
    "name": "ipython",
    "version": 3
   },
   "file_extension": ".py",
   "mimetype": "text/x-python",
   "name": "python",
   "nbconvert_exporter": "python",
   "pygments_lexer": "ipython3",
   "version": "3.12.11"
  }
 },
 "nbformat": 4,
 "nbformat_minor": 5
}
