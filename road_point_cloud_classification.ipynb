{
 "cells": [
  {
   "cell_type": "markdown",
   "id": "08c7fc1a",
   "metadata": {},
   "source": [
    "# Road Point Cloud Classification\n",
    "1. Data Loader\n",
    "2. Tree-based methods and SVM\n",
    "3. Convolutional Neural Network\n"
   ]
  },
  {
   "cell_type": "code",
   "execution_count": 1,
   "id": "41ea1e0d",
   "metadata": {},
   "outputs": [],
   "source": [
    "# Basic data processing & preparation functionality\n",
    "import os\n",
    "import numpy as np\n",
    "import pandas as pd\n",
    "\n",
    "# Visualization\n",
    "import seaborn as sns\n",
    "import plotly.express as px\n",
    "import plotly.colors as pc\n",
    "import matplotlib.pyplot as plt\n",
    "from mpl_toolkits.mplot3d import Axes3D\n",
    "\n",
    "# Measurements of time to fit a model\n",
    "import time\n",
    "\n",
    "\n",
    "#   Tree-based methods\n",
    "from sklearn.tree import DecisionTreeClassifier\n",
    "from sklearn.ensemble import AdaBoostClassifier\n",
    "from sklearn.ensemble import RandomForestClassifier\n",
    "\n",
    "#   SVM related methods\n",
    "from sklearn.svm import SVC\n",
    "from sklearn.multiclass import OneVsOneClassifier\n",
    "from sklearn.multiclass import OneVsRestClassifier\n",
    "\n",
    "# Standard test dataset\n",
    "from sklearn.datasets import load_iris\n",
    "\n",
    "# Data preprocessing\n",
    "from sklearn.model_selection import train_test_split\n",
    "\n",
    "# Dataset tuning\n",
    "from sklearn.decomposition import PCA\n",
    "\n",
    "# Model tuning\n",
    "from sklearn.model_selection import GridSearchCV\n",
    "\n",
    "# Metric for model evaluation\n",
    "from sklearn.metrics import accuracy_score\n",
    "from sklearn.model_selection import KFold\n",
    "from sklearn.model_selection import cross_val_score"
   ]
  },
  {
   "cell_type": "code",
   "execution_count": 2,
   "id": "105f894a",
   "metadata": {},
   "outputs": [],
   "source": [
    "# --- Road Point Cloud Classification - Data Loader --- (Jonas)\n",
    "\n",
    "# Function to load all point clouds from a folder\n",
    "def load_point_clouds(labels):\n",
    "    \"\"\"\n",
    "    Loads all .npy point cloud files from the specified folder.\n",
    "\n",
    "    Args:\n",
    "        folder_path (str): Path to the folder containing .npy files.\n",
    "\n",
    "    Returns:\n",
    "        list of np.ndarray: List of loaded point cloud arrays.\n",
    "    \"\"\"\n",
    "    point_clouds = []\n",
    "    for label in labels:\n",
    "        folder_path = f\"dataset/{label}\"  # Adjust the folder paths as needed\n",
    "        for filename in os.listdir(folder_path):\n",
    "            if filename.endswith('.npy'):\n",
    "                file_path = os.path.join(folder_path, filename)\n",
    "                data = np.load(file_path)\n",
    "                # print(data.shape)  # Print shape of each loaded point cloud\n",
    "                label_vector = np.zeros((data.shape[0], 1))  # Create a label vector of zeros\n",
    "                label_vector.fill(labels.index(label))  # Fill the label vector with the index of the label\n",
    "                data = np.hstack((data, label_vector))  # Concatenate label vector to the point cloud data\n",
    "                # print(data.shape)  # Print shape after concatenation\n",
    "                point_clouds.append(data)\n",
    "    return point_clouds\n",
    "\n",
    "def visualize_point_cloud(points, title=\"Point Cloud\", color='b', s=1):\n",
    "    \"\"\"\n",
    "    Visualizes a 3D point cloud using matplotlib.\n",
    "\n",
    "    Args:\n",
    "        points (np.ndarray): Array of shape (N, 3) or (N, >=3) with x, y, z coordinates.\n",
    "        title (str): Plot title.\n",
    "        color (str or array): Color of points.\n",
    "        s (float): Marker size.\n",
    "    \"\"\"\n",
    "    if points.shape[1] < 3:\n",
    "        raise ValueError(\"Point cloud must have at least 3 columns (x, y, z).\")\n",
    "    fig = plt.figure(figsize=(8, 6))\n",
    "    ax = fig.add_subplot(111, projection='3d')\n",
    "    ax.scatter(points[:, 0], points[:, 1], points[:, 2], c=color, s=s)\n",
    "    ax.set_xlabel('X')\n",
    "    ax.set_ylabel('Y')\n",
    "    ax.set_zlabel('Z')\n",
    "    ax.set_title(title)\n",
    "    plt.show() \n",
    "\n",
    "\n",
    "def visualize_point_cloud_plotly(points, title=\"Point Cloud\", s=2):\n",
    "    \"\"\"\n",
    "    Visualizes a 3D point cloud using plotly.\n",
    "\n",
    "    Args:\n",
    "        points (np.ndarray): Array of shape (N, 3) or (N, >=3) with x, y, z coordinates.\n",
    "        title (str): Plot title.\n",
    "        s (float): Marker size.\n",
    "    \"\"\"\n",
    "    if points.shape[1] < 3:\n",
    "        raise ValueError(\"Point cloud must have at least 3 columns (x, y, z).\")\n",
    "    fig = px.scatter_3d(\n",
    "        x=points[:, 0], y=points[:, 1], z=points[:, 2],\n",
    "        title=title,\n",
    "        opacity=0.8\n",
    "    )\n",
    "    fig.update_traces(marker=dict(size=s))\n",
    "    fig.update_layout(scene=dict(\n",
    "        xaxis_title='X', yaxis_title='Y', zaxis_title='Z'\n",
    "    ))\n",
    "    fig.show()\n",
    "\n",
    "    \n",
    "# def visualize_point_cloud_plotly(points, title=\"Point Cloud\", s=1):\n",
    "#     \"\"\"\n",
    "#     Visualizes a 3D point cloud using plotly.\n",
    "\n",
    "#     Args:\n",
    "#         points (np.ndarray): Array of shape (N, 3) or (N, >=3) with x, y, z coordinates.\n",
    "#         title (str): Plot title.\n",
    "#         color (str or array): Color of points.\n",
    "#         s (float): Marker size.\n",
    "#     \"\"\"\n",
    "#     color=pc.label_rgb((points[:,3],points[:,4],points[:,5]))\n",
    "#     if points.shape[1] < 3:\n",
    "#         raise ValueError(\"Point cloud must have at least 3 columns (x, y, z).\")\n",
    "#     fig = px.scatter_3d(points, x=points[:,0], y=points[:,1], z=points[:,2],range_x=[-1,1],range_y=[-1,1],range_z=[-1,1], size_max=s, opacity=0.8)\n",
    "#     fig.update_layout(title=title, scene_aspectmode='cube', scene=dict(xaxis_title='X', yaxis_title='Y', zaxis_title='Z'))\n",
    "#     fig.show()"
   ]
  },
  {
   "cell_type": "markdown",
   "id": "15c30f53",
   "metadata": {},
   "source": [
    "# Tree-based methods and SVM\n",
    "\n",
    "For tree-based methods and support vector machines, a one-dimensional feature vector is needed as input data for every sample of the dataset. Therefore, in a first, basic approach, we simply downsampled each point cloud randomly to the number of points of the smallest point cloud in the dataset. Afterwards, we prepared the input feature matrix X by simply concatenating all selected features for all the points for each point cloud. Selecting different features could also give different results."
   ]
  },
  {
   "cell_type": "code",
   "execution_count": 7,
   "id": "bfdbee20",
   "metadata": {},
   "outputs": [],
   "source": [
    "# --- Data Preparation for tree-based methods and SVM --- (Jonas)\n",
    "\n",
    "def downsample_point_clouds(dataset):\n",
    "    \"\"\"\n",
    "    Downsamples all point clouds in the dataset to the size of the first point cloud.\n",
    "\n",
    "    Args:\n",
    "        dataset (list of np.ndarray): List of point clouds.\n",
    "\n",
    "    Returns:\n",
    "        list of np.ndarray: List of downsampled point clouds.\n",
    "    \"\"\"\n",
    "    if not dataset:\n",
    "        return []\n",
    "\n",
    "    # Sort the dataset by the number of points in each point cloud\n",
    "    dataset.sort(key=lambda x: x.shape[0])\n",
    "    print(f\"Shape of smallest point cloud: {dataset[0].shape}\")  # Print the shape of the first point cloud\n",
    "    print(f\"Shape of largest point cloud: {dataset[-1].shape}\")  # Print the shape of the last point cloud\n",
    "\n",
    "    # Downsample all point clouds to the size of the first point cloud\n",
    "    for i in range(len(dataset)):\n",
    "        sample = dataset[i]  # Get the current sample\n",
    "        indices = np.random.choice(sample.shape[0], size=dataset[0].shape[0], replace=False)  # Randomly select indices\n",
    "        sample_downsampled = sample[indices]  # Downsample the point cloud to match the size of the first point cloud \n",
    "        dataset[i] = sample_downsampled  # Update the dataset with the downsampled sample\n",
    "\n",
    "    return dataset\n",
    "\n",
    "\n",
    "# dataset.sort(key=lambda x: x.shape[0])  # Sort the dataset by the number of points in each point cloud\n",
    "# print(f\"Shape of smallest point cloud: {dataset[0].shape}\")  # Print the shape of the first point cloud\n",
    "# print(f\"Shape of largest point cloud: {dataset[-1].shape}\")  # Print the shape of the last point cloud\n",
    "# # Downsample all point clouds to the size of the first point cloud\n",
    "# for i in range(len(dataset)):\n",
    "#     sample = dataset[i]  # Get the current sample\n",
    "#     indices = np.random.choice(sample.shape[0], size=dataset[0].shape[0], replace=False)  # Randomly select indices\n",
    "#     sample_downsampled = sample[indices]  # Downsample the point cloud to match the size of the first point cloud \n",
    "#     dataset[i] = sample_downsampled  # Update the dataset with the downsampled sample\n",
    "\n",
    "def prepare_feature_vectors(dataset):\n",
    "    \"\"\"\n",
    "    Prepares feature vectors and labels from the dataset of point clouds.\n",
    "\n",
    "    Args:\n",
    "        dataset (list of np.ndarray): List of downsampled point clouds.\n",
    "\n",
    "    Returns:\n",
    "        tuple: Feature vectors (X) and labels (y).\n",
    "    \"\"\"\n",
    "    # Convert the list of point clouds to a single NumPy array\n",
    "    feature_vectors = []\n",
    "    target_labels = []  # Initialize a list to store labels\n",
    "    for sample in dataset:\n",
    "        feature_vector = np.array([])  # Initialize an empty array for the feature vector\n",
    "        # Iterate over each point in the sample and concatenate its features to the feature vector\n",
    "        for i in range(sample.shape[0]):\n",
    "            feature_vector = np.hstack((feature_vector, sample[i, :-1]))\n",
    "        target_labels.append(sample[i, -1])  \n",
    "        # Concatenate all features except the label\n",
    "        feature_vectors.append(feature_vector)  # Append the feature vector to the list\n",
    "        \n",
    "    return np.vstack(feature_vectors), np.hstack(target_labels)  # Return stacked feature vectors and labels\n",
    "\n",
    "\n",
    "# # Convert the list of point clouds to a single NumPy array\n",
    "# feature_vectors = []\n",
    "# target_labels = []  # Initialize a list to store labels\n",
    "# for sample in dataset:\n",
    "#     feature_vector = np.array([])  # Initialize an empty array for the feature vector\n",
    "#     # Iterate over each point in the sample and concatenate its features to the feature vector and labels to the target_labels\n",
    "#     for i in range(sample.shape[0]):\n",
    "#         feature_vector = np.hstack((feature_vector, sample[i, :-1]))\n",
    "#         target_labels.append(sample[i, -1])  \n",
    "#     # Concatenate all features except the label\n",
    "#     feature_vectors.append(feature_vector)  # Append the feature vector to the list\n",
    "    \n",
    "# # Print the shape of the first point cloud after downsampling\n",
    "# print(feature_vectors[0].shape)\n",
    "# X = np.vstack(feature_vectors)  # Stack all point clouds vertically\n",
    "# print(X.shape)  # Print the shape of the dataset\n",
    "# # Extract labels from the last column of X\n",
    "# y = np.vstack(target_labels)"
   ]
  },
  {
   "cell_type": "code",
   "execution_count": 8,
   "id": "d3e29c1a",
   "metadata": {},
   "outputs": [
    {
     "name": "stdout",
     "output_type": "stream",
     "text": [
      "Loaded 1425 point clouds from 6 categories.\n"
     ]
    },
    {
     "data": {
      "application/vnd.plotly.v1+json": {
       "config": {
        "plotlyServerURL": "https://plot.ly"
       },
       "data": [
        {
         "hovertemplate": "x=%{x}<br>y=%{y}<br>z=%{z}<extra></extra>",
         "legendgroup": "",
         "marker": {
          "color": "#636efa",
          "opacity": 0.8,
          "size": 2,
          "symbol": "circle"
         },
         "mode": "markers",
         "name": "",
         "scene": "scene",
         "showlegend": false,
         "type": "scatter3d",
         "x": {
          "bdata": "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",
          "dtype": "f8"
         },
         "y": {
          "bdata": "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",
          "dtype": "f8"
         },
         "z": {
          "bdata": "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",
          "dtype": "f8"
         }
        }
       ],
       "layout": {
        "legend": {
         "tracegroupgap": 0
        },
        "scene": {
         "domain": {
          "x": [
           0,
           1
          ],
          "y": [
           0,
           1
          ]
         },
         "xaxis": {
          "title": {
           "text": "X"
          }
         },
         "yaxis": {
          "title": {
           "text": "Y"
          }
         },
         "zaxis": {
          "title": {
           "text": "Z"
          }
         }
        },
        "template": {
         "data": {
          "bar": [
           {
            "error_x": {
             "color": "#2a3f5f"
            },
            "error_y": {
             "color": "#2a3f5f"
            },
            "marker": {
             "line": {
              "color": "#E5ECF6",
              "width": 0.5
             },
             "pattern": {
              "fillmode": "overlay",
              "size": 10,
              "solidity": 0.2
             }
            },
            "type": "bar"
           }
          ],
          "barpolar": [
           {
            "marker": {
             "line": {
              "color": "#E5ECF6",
              "width": 0.5
             },
             "pattern": {
              "fillmode": "overlay",
              "size": 10,
              "solidity": 0.2
             }
            },
            "type": "barpolar"
           }
          ],
          "carpet": [
           {
            "aaxis": {
             "endlinecolor": "#2a3f5f",
             "gridcolor": "white",
             "linecolor": "white",
             "minorgridcolor": "white",
             "startlinecolor": "#2a3f5f"
            },
            "baxis": {
             "endlinecolor": "#2a3f5f",
             "gridcolor": "white",
             "linecolor": "white",
             "minorgridcolor": "white",
             "startlinecolor": "#2a3f5f"
            },
            "type": "carpet"
           }
          ],
          "choropleth": [
           {
            "colorbar": {
             "outlinewidth": 0,
             "ticks": ""
            },
            "type": "choropleth"
           }
          ],
          "contour": [
           {
            "colorbar": {
             "outlinewidth": 0,
             "ticks": ""
            },
            "colorscale": [
             [
              0,
              "#0d0887"
             ],
             [
              0.1111111111111111,
              "#46039f"
             ],
             [
              0.2222222222222222,
              "#7201a8"
             ],
             [
              0.3333333333333333,
              "#9c179e"
             ],
             [
              0.4444444444444444,
              "#bd3786"
             ],
             [
              0.5555555555555556,
              "#d8576b"
             ],
             [
              0.6666666666666666,
              "#ed7953"
             ],
             [
              0.7777777777777778,
              "#fb9f3a"
             ],
             [
              0.8888888888888888,
              "#fdca26"
             ],
             [
              1,
              "#f0f921"
             ]
            ],
            "type": "contour"
           }
          ],
          "contourcarpet": [
           {
            "colorbar": {
             "outlinewidth": 0,
             "ticks": ""
            },
            "type": "contourcarpet"
           }
          ],
          "heatmap": [
           {
            "colorbar": {
             "outlinewidth": 0,
             "ticks": ""
            },
            "colorscale": [
             [
              0,
              "#0d0887"
             ],
             [
              0.1111111111111111,
              "#46039f"
             ],
             [
              0.2222222222222222,
              "#7201a8"
             ],
             [
              0.3333333333333333,
              "#9c179e"
             ],
             [
              0.4444444444444444,
              "#bd3786"
             ],
             [
              0.5555555555555556,
              "#d8576b"
             ],
             [
              0.6666666666666666,
              "#ed7953"
             ],
             [
              0.7777777777777778,
              "#fb9f3a"
             ],
             [
              0.8888888888888888,
              "#fdca26"
             ],
             [
              1,
              "#f0f921"
             ]
            ],
            "type": "heatmap"
           }
          ],
          "histogram": [
           {
            "marker": {
             "pattern": {
              "fillmode": "overlay",
              "size": 10,
              "solidity": 0.2
             }
            },
            "type": "histogram"
           }
          ],
          "histogram2d": [
           {
            "colorbar": {
             "outlinewidth": 0,
             "ticks": ""
            },
            "colorscale": [
             [
              0,
              "#0d0887"
             ],
             [
              0.1111111111111111,
              "#46039f"
             ],
             [
              0.2222222222222222,
              "#7201a8"
             ],
             [
              0.3333333333333333,
              "#9c179e"
             ],
             [
              0.4444444444444444,
              "#bd3786"
             ],
             [
              0.5555555555555556,
              "#d8576b"
             ],
             [
              0.6666666666666666,
              "#ed7953"
             ],
             [
              0.7777777777777778,
              "#fb9f3a"
             ],
             [
              0.8888888888888888,
              "#fdca26"
             ],
             [
              1,
              "#f0f921"
             ]
            ],
            "type": "histogram2d"
           }
          ],
          "histogram2dcontour": [
           {
            "colorbar": {
             "outlinewidth": 0,
             "ticks": ""
            },
            "colorscale": [
             [
              0,
              "#0d0887"
             ],
             [
              0.1111111111111111,
              "#46039f"
             ],
             [
              0.2222222222222222,
              "#7201a8"
             ],
             [
              0.3333333333333333,
              "#9c179e"
             ],
             [
              0.4444444444444444,
              "#bd3786"
             ],
             [
              0.5555555555555556,
              "#d8576b"
             ],
             [
              0.6666666666666666,
              "#ed7953"
             ],
             [
              0.7777777777777778,
              "#fb9f3a"
             ],
             [
              0.8888888888888888,
              "#fdca26"
             ],
             [
              1,
              "#f0f921"
             ]
            ],
            "type": "histogram2dcontour"
           }
          ],
          "mesh3d": [
           {
            "colorbar": {
             "outlinewidth": 0,
             "ticks": ""
            },
            "type": "mesh3d"
           }
          ],
          "parcoords": [
           {
            "line": {
             "colorbar": {
              "outlinewidth": 0,
              "ticks": ""
             }
            },
            "type": "parcoords"
           }
          ],
          "pie": [
           {
            "automargin": true,
            "type": "pie"
           }
          ],
          "scatter": [
           {
            "fillpattern": {
             "fillmode": "overlay",
             "size": 10,
             "solidity": 0.2
            },
            "type": "scatter"
           }
          ],
          "scatter3d": [
           {
            "line": {
             "colorbar": {
              "outlinewidth": 0,
              "ticks": ""
             }
            },
            "marker": {
             "colorbar": {
              "outlinewidth": 0,
              "ticks": ""
             }
            },
            "type": "scatter3d"
           }
          ],
          "scattercarpet": [
           {
            "marker": {
             "colorbar": {
              "outlinewidth": 0,
              "ticks": ""
             }
            },
            "type": "scattercarpet"
           }
          ],
          "scattergeo": [
           {
            "marker": {
             "colorbar": {
              "outlinewidth": 0,
              "ticks": ""
             }
            },
            "type": "scattergeo"
           }
          ],
          "scattergl": [
           {
            "marker": {
             "colorbar": {
              "outlinewidth": 0,
              "ticks": ""
             }
            },
            "type": "scattergl"
           }
          ],
          "scattermap": [
           {
            "marker": {
             "colorbar": {
              "outlinewidth": 0,
              "ticks": ""
             }
            },
            "type": "scattermap"
           }
          ],
          "scattermapbox": [
           {
            "marker": {
             "colorbar": {
              "outlinewidth": 0,
              "ticks": ""
             }
            },
            "type": "scattermapbox"
           }
          ],
          "scatterpolar": [
           {
            "marker": {
             "colorbar": {
              "outlinewidth": 0,
              "ticks": ""
             }
            },
            "type": "scatterpolar"
           }
          ],
          "scatterpolargl": [
           {
            "marker": {
             "colorbar": {
              "outlinewidth": 0,
              "ticks": ""
             }
            },
            "type": "scatterpolargl"
           }
          ],
          "scatterternary": [
           {
            "marker": {
             "colorbar": {
              "outlinewidth": 0,
              "ticks": ""
             }
            },
            "type": "scatterternary"
           }
          ],
          "surface": [
           {
            "colorbar": {
             "outlinewidth": 0,
             "ticks": ""
            },
            "colorscale": [
             [
              0,
              "#0d0887"
             ],
             [
              0.1111111111111111,
              "#46039f"
             ],
             [
              0.2222222222222222,
              "#7201a8"
             ],
             [
              0.3333333333333333,
              "#9c179e"
             ],
             [
              0.4444444444444444,
              "#bd3786"
             ],
             [
              0.5555555555555556,
              "#d8576b"
             ],
             [
              0.6666666666666666,
              "#ed7953"
             ],
             [
              0.7777777777777778,
              "#fb9f3a"
             ],
             [
              0.8888888888888888,
              "#fdca26"
             ],
             [
              1,
              "#f0f921"
             ]
            ],
            "type": "surface"
           }
          ],
          "table": [
           {
            "cells": {
             "fill": {
              "color": "#EBF0F8"
             },
             "line": {
              "color": "white"
             }
            },
            "header": {
             "fill": {
              "color": "#C8D4E3"
             },
             "line": {
              "color": "white"
             }
            },
            "type": "table"
           }
          ]
         },
         "layout": {
          "annotationdefaults": {
           "arrowcolor": "#2a3f5f",
           "arrowhead": 0,
           "arrowwidth": 1
          },
          "autotypenumbers": "strict",
          "coloraxis": {
           "colorbar": {
            "outlinewidth": 0,
            "ticks": ""
           }
          },
          "colorscale": {
           "diverging": [
            [
             0,
             "#8e0152"
            ],
            [
             0.1,
             "#c51b7d"
            ],
            [
             0.2,
             "#de77ae"
            ],
            [
             0.3,
             "#f1b6da"
            ],
            [
             0.4,
             "#fde0ef"
            ],
            [
             0.5,
             "#f7f7f7"
            ],
            [
             0.6,
             "#e6f5d0"
            ],
            [
             0.7,
             "#b8e186"
            ],
            [
             0.8,
             "#7fbc41"
            ],
            [
             0.9,
             "#4d9221"
            ],
            [
             1,
             "#276419"
            ]
           ],
           "sequential": [
            [
             0,
             "#0d0887"
            ],
            [
             0.1111111111111111,
             "#46039f"
            ],
            [
             0.2222222222222222,
             "#7201a8"
            ],
            [
             0.3333333333333333,
             "#9c179e"
            ],
            [
             0.4444444444444444,
             "#bd3786"
            ],
            [
             0.5555555555555556,
             "#d8576b"
            ],
            [
             0.6666666666666666,
             "#ed7953"
            ],
            [
             0.7777777777777778,
             "#fb9f3a"
            ],
            [
             0.8888888888888888,
             "#fdca26"
            ],
            [
             1,
             "#f0f921"
            ]
           ],
           "sequentialminus": [
            [
             0,
             "#0d0887"
            ],
            [
             0.1111111111111111,
             "#46039f"
            ],
            [
             0.2222222222222222,
             "#7201a8"
            ],
            [
             0.3333333333333333,
             "#9c179e"
            ],
            [
             0.4444444444444444,
             "#bd3786"
            ],
            [
             0.5555555555555556,
             "#d8576b"
            ],
            [
             0.6666666666666666,
             "#ed7953"
            ],
            [
             0.7777777777777778,
             "#fb9f3a"
            ],
            [
             0.8888888888888888,
             "#fdca26"
            ],
            [
             1,
             "#f0f921"
            ]
           ]
          },
          "colorway": [
           "#636efa",
           "#EF553B",
           "#00cc96",
           "#ab63fa",
           "#FFA15A",
           "#19d3f3",
           "#FF6692",
           "#B6E880",
           "#FF97FF",
           "#FECB52"
          ],
          "font": {
           "color": "#2a3f5f"
          },
          "geo": {
           "bgcolor": "white",
           "lakecolor": "white",
           "landcolor": "#E5ECF6",
           "showlakes": true,
           "showland": true,
           "subunitcolor": "white"
          },
          "hoverlabel": {
           "align": "left"
          },
          "hovermode": "closest",
          "mapbox": {
           "style": "light"
          },
          "paper_bgcolor": "white",
          "plot_bgcolor": "#E5ECF6",
          "polar": {
           "angularaxis": {
            "gridcolor": "white",
            "linecolor": "white",
            "ticks": ""
           },
           "bgcolor": "#E5ECF6",
           "radialaxis": {
            "gridcolor": "white",
            "linecolor": "white",
            "ticks": ""
           }
          },
          "scene": {
           "xaxis": {
            "backgroundcolor": "#E5ECF6",
            "gridcolor": "white",
            "gridwidth": 2,
            "linecolor": "white",
            "showbackground": true,
            "ticks": "",
            "zerolinecolor": "white"
           },
           "yaxis": {
            "backgroundcolor": "#E5ECF6",
            "gridcolor": "white",
            "gridwidth": 2,
            "linecolor": "white",
            "showbackground": true,
            "ticks": "",
            "zerolinecolor": "white"
           },
           "zaxis": {
            "backgroundcolor": "#E5ECF6",
            "gridcolor": "white",
            "gridwidth": 2,
            "linecolor": "white",
            "showbackground": true,
            "ticks": "",
            "zerolinecolor": "white"
           }
          },
          "shapedefaults": {
           "line": {
            "color": "#2a3f5f"
           }
          },
          "ternary": {
           "aaxis": {
            "gridcolor": "white",
            "linecolor": "white",
            "ticks": ""
           },
           "baxis": {
            "gridcolor": "white",
            "linecolor": "white",
            "ticks": ""
           },
           "bgcolor": "#E5ECF6",
           "caxis": {
            "gridcolor": "white",
            "linecolor": "white",
            "ticks": ""
           }
          },
          "title": {
           "x": 0.05
          },
          "xaxis": {
           "automargin": true,
           "gridcolor": "white",
           "linecolor": "white",
           "ticks": "",
           "title": {
            "standoff": 15
           },
           "zerolinecolor": "white",
           "zerolinewidth": 2
          },
          "yaxis": {
           "automargin": true,
           "gridcolor": "white",
           "linecolor": "white",
           "ticks": "",
           "title": {
            "standoff": 15
           },
           "zerolinecolor": "white",
           "zerolinewidth": 2
          }
         }
        },
        "title": {
         "text": "Point Cloud - 2lanes"
        }
       }
      }
     },
     "metadata": {},
     "output_type": "display_data"
    },
    {
     "data": {
      "application/vnd.plotly.v1+json": {
       "config": {
        "plotlyServerURL": "https://plot.ly"
       },
       "data": [
        {
         "hovertemplate": "x=%{x}<br>y=%{y}<br>z=%{z}<extra></extra>",
         "legendgroup": "",
         "marker": {
          "color": "#636efa",
          "opacity": 0.8,
          "size": 2,
          "symbol": "circle"
         },
         "mode": "markers",
         "name": "",
         "scene": "scene",
         "showlegend": false,
         "type": "scatter3d",
         "x": {
          "bdata": "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",
          "dtype": "f8"
         },
         "y": {
          "bdata": "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",
          "dtype": "f8"
         },
         "z": {
          "bdata": "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",
          "dtype": "f8"
         }
        }
       ],
       "layout": {
        "legend": {
         "tracegroupgap": 0
        },
        "scene": {
         "domain": {
          "x": [
           0,
           1
          ],
          "y": [
           0,
           1
          ]
         },
         "xaxis": {
          "title": {
           "text": "X"
          }
         },
         "yaxis": {
          "title": {
           "text": "Y"
          }
         },
         "zaxis": {
          "title": {
           "text": "Z"
          }
         }
        },
        "template": {
         "data": {
          "bar": [
           {
            "error_x": {
             "color": "#2a3f5f"
            },
            "error_y": {
             "color": "#2a3f5f"
            },
            "marker": {
             "line": {
              "color": "#E5ECF6",
              "width": 0.5
             },
             "pattern": {
              "fillmode": "overlay",
              "size": 10,
              "solidity": 0.2
             }
            },
            "type": "bar"
           }
          ],
          "barpolar": [
           {
            "marker": {
             "line": {
              "color": "#E5ECF6",
              "width": 0.5
             },
             "pattern": {
              "fillmode": "overlay",
              "size": 10,
              "solidity": 0.2
             }
            },
            "type": "barpolar"
           }
          ],
          "carpet": [
           {
            "aaxis": {
             "endlinecolor": "#2a3f5f",
             "gridcolor": "white",
             "linecolor": "white",
             "minorgridcolor": "white",
             "startlinecolor": "#2a3f5f"
            },
            "baxis": {
             "endlinecolor": "#2a3f5f",
             "gridcolor": "white",
             "linecolor": "white",
             "minorgridcolor": "white",
             "startlinecolor": "#2a3f5f"
            },
            "type": "carpet"
           }
          ],
          "choropleth": [
           {
            "colorbar": {
             "outlinewidth": 0,
             "ticks": ""
            },
            "type": "choropleth"
           }
          ],
          "contour": [
           {
            "colorbar": {
             "outlinewidth": 0,
             "ticks": ""
            },
            "colorscale": [
             [
              0,
              "#0d0887"
             ],
             [
              0.1111111111111111,
              "#46039f"
             ],
             [
              0.2222222222222222,
              "#7201a8"
             ],
             [
              0.3333333333333333,
              "#9c179e"
             ],
             [
              0.4444444444444444,
              "#bd3786"
             ],
             [
              0.5555555555555556,
              "#d8576b"
             ],
             [
              0.6666666666666666,
              "#ed7953"
             ],
             [
              0.7777777777777778,
              "#fb9f3a"
             ],
             [
              0.8888888888888888,
              "#fdca26"
             ],
             [
              1,
              "#f0f921"
             ]
            ],
            "type": "contour"
           }
          ],
          "contourcarpet": [
           {
            "colorbar": {
             "outlinewidth": 0,
             "ticks": ""
            },
            "type": "contourcarpet"
           }
          ],
          "heatmap": [
           {
            "colorbar": {
             "outlinewidth": 0,
             "ticks": ""
            },
            "colorscale": [
             [
              0,
              "#0d0887"
             ],
             [
              0.1111111111111111,
              "#46039f"
             ],
             [
              0.2222222222222222,
              "#7201a8"
             ],
             [
              0.3333333333333333,
              "#9c179e"
             ],
             [
              0.4444444444444444,
              "#bd3786"
             ],
             [
              0.5555555555555556,
              "#d8576b"
             ],
             [
              0.6666666666666666,
              "#ed7953"
             ],
             [
              0.7777777777777778,
              "#fb9f3a"
             ],
             [
              0.8888888888888888,
              "#fdca26"
             ],
             [
              1,
              "#f0f921"
             ]
            ],
            "type": "heatmap"
           }
          ],
          "histogram": [
           {
            "marker": {
             "pattern": {
              "fillmode": "overlay",
              "size": 10,
              "solidity": 0.2
             }
            },
            "type": "histogram"
           }
          ],
          "histogram2d": [
           {
            "colorbar": {
             "outlinewidth": 0,
             "ticks": ""
            },
            "colorscale": [
             [
              0,
              "#0d0887"
             ],
             [
              0.1111111111111111,
              "#46039f"
             ],
             [
              0.2222222222222222,
              "#7201a8"
             ],
             [
              0.3333333333333333,
              "#9c179e"
             ],
             [
              0.4444444444444444,
              "#bd3786"
             ],
             [
              0.5555555555555556,
              "#d8576b"
             ],
             [
              0.6666666666666666,
              "#ed7953"
             ],
             [
              0.7777777777777778,
              "#fb9f3a"
             ],
             [
              0.8888888888888888,
              "#fdca26"
             ],
             [
              1,
              "#f0f921"
             ]
            ],
            "type": "histogram2d"
           }
          ],
          "histogram2dcontour": [
           {
            "colorbar": {
             "outlinewidth": 0,
             "ticks": ""
            },
            "colorscale": [
             [
              0,
              "#0d0887"
             ],
             [
              0.1111111111111111,
              "#46039f"
             ],
             [
              0.2222222222222222,
              "#7201a8"
             ],
             [
              0.3333333333333333,
              "#9c179e"
             ],
             [
              0.4444444444444444,
              "#bd3786"
             ],
             [
              0.5555555555555556,
              "#d8576b"
             ],
             [
              0.6666666666666666,
              "#ed7953"
             ],
             [
              0.7777777777777778,
              "#fb9f3a"
             ],
             [
              0.8888888888888888,
              "#fdca26"
             ],
             [
              1,
              "#f0f921"
             ]
            ],
            "type": "histogram2dcontour"
           }
          ],
          "mesh3d": [
           {
            "colorbar": {
             "outlinewidth": 0,
             "ticks": ""
            },
            "type": "mesh3d"
           }
          ],
          "parcoords": [
           {
            "line": {
             "colorbar": {
              "outlinewidth": 0,
              "ticks": ""
             }
            },
            "type": "parcoords"
           }
          ],
          "pie": [
           {
            "automargin": true,
            "type": "pie"
           }
          ],
          "scatter": [
           {
            "fillpattern": {
             "fillmode": "overlay",
             "size": 10,
             "solidity": 0.2
            },
            "type": "scatter"
           }
          ],
          "scatter3d": [
           {
            "line": {
             "colorbar": {
              "outlinewidth": 0,
              "ticks": ""
             }
            },
            "marker": {
             "colorbar": {
              "outlinewidth": 0,
              "ticks": ""
             }
            },
            "type": "scatter3d"
           }
          ],
          "scattercarpet": [
           {
            "marker": {
             "colorbar": {
              "outlinewidth": 0,
              "ticks": ""
             }
            },
            "type": "scattercarpet"
           }
          ],
          "scattergeo": [
           {
            "marker": {
             "colorbar": {
              "outlinewidth": 0,
              "ticks": ""
             }
            },
            "type": "scattergeo"
           }
          ],
          "scattergl": [
           {
            "marker": {
             "colorbar": {
              "outlinewidth": 0,
              "ticks": ""
             }
            },
            "type": "scattergl"
           }
          ],
          "scattermap": [
           {
            "marker": {
             "colorbar": {
              "outlinewidth": 0,
              "ticks": ""
             }
            },
            "type": "scattermap"
           }
          ],
          "scattermapbox": [
           {
            "marker": {
             "colorbar": {
              "outlinewidth": 0,
              "ticks": ""
             }
            },
            "type": "scattermapbox"
           }
          ],
          "scatterpolar": [
           {
            "marker": {
             "colorbar": {
              "outlinewidth": 0,
              "ticks": ""
             }
            },
            "type": "scatterpolar"
           }
          ],
          "scatterpolargl": [
           {
            "marker": {
             "colorbar": {
              "outlinewidth": 0,
              "ticks": ""
             }
            },
            "type": "scatterpolargl"
           }
          ],
          "scatterternary": [
           {
            "marker": {
             "colorbar": {
              "outlinewidth": 0,
              "ticks": ""
             }
            },
            "type": "scatterternary"
           }
          ],
          "surface": [
           {
            "colorbar": {
             "outlinewidth": 0,
             "ticks": ""
            },
            "colorscale": [
             [
              0,
              "#0d0887"
             ],
             [
              0.1111111111111111,
              "#46039f"
             ],
             [
              0.2222222222222222,
              "#7201a8"
             ],
             [
              0.3333333333333333,
              "#9c179e"
             ],
             [
              0.4444444444444444,
              "#bd3786"
             ],
             [
              0.5555555555555556,
              "#d8576b"
             ],
             [
              0.6666666666666666,
              "#ed7953"
             ],
             [
              0.7777777777777778,
              "#fb9f3a"
             ],
             [
              0.8888888888888888,
              "#fdca26"
             ],
             [
              1,
              "#f0f921"
             ]
            ],
            "type": "surface"
           }
          ],
          "table": [
           {
            "cells": {
             "fill": {
              "color": "#EBF0F8"
             },
             "line": {
              "color": "white"
             }
            },
            "header": {
             "fill": {
              "color": "#C8D4E3"
             },
             "line": {
              "color": "white"
             }
            },
            "type": "table"
           }
          ]
         },
         "layout": {
          "annotationdefaults": {
           "arrowcolor": "#2a3f5f",
           "arrowhead": 0,
           "arrowwidth": 1
          },
          "autotypenumbers": "strict",
          "coloraxis": {
           "colorbar": {
            "outlinewidth": 0,
            "ticks": ""
           }
          },
          "colorscale": {
           "diverging": [
            [
             0,
             "#8e0152"
            ],
            [
             0.1,
             "#c51b7d"
            ],
            [
             0.2,
             "#de77ae"
            ],
            [
             0.3,
             "#f1b6da"
            ],
            [
             0.4,
             "#fde0ef"
            ],
            [
             0.5,
             "#f7f7f7"
            ],
            [
             0.6,
             "#e6f5d0"
            ],
            [
             0.7,
             "#b8e186"
            ],
            [
             0.8,
             "#7fbc41"
            ],
            [
             0.9,
             "#4d9221"
            ],
            [
             1,
             "#276419"
            ]
           ],
           "sequential": [
            [
             0,
             "#0d0887"
            ],
            [
             0.1111111111111111,
             "#46039f"
            ],
            [
             0.2222222222222222,
             "#7201a8"
            ],
            [
             0.3333333333333333,
             "#9c179e"
            ],
            [
             0.4444444444444444,
             "#bd3786"
            ],
            [
             0.5555555555555556,
             "#d8576b"
            ],
            [
             0.6666666666666666,
             "#ed7953"
            ],
            [
             0.7777777777777778,
             "#fb9f3a"
            ],
            [
             0.8888888888888888,
             "#fdca26"
            ],
            [
             1,
             "#f0f921"
            ]
           ],
           "sequentialminus": [
            [
             0,
             "#0d0887"
            ],
            [
             0.1111111111111111,
             "#46039f"
            ],
            [
             0.2222222222222222,
             "#7201a8"
            ],
            [
             0.3333333333333333,
             "#9c179e"
            ],
            [
             0.4444444444444444,
             "#bd3786"
            ],
            [
             0.5555555555555556,
             "#d8576b"
            ],
            [
             0.6666666666666666,
             "#ed7953"
            ],
            [
             0.7777777777777778,
             "#fb9f3a"
            ],
            [
             0.8888888888888888,
             "#fdca26"
            ],
            [
             1,
             "#f0f921"
            ]
           ]
          },
          "colorway": [
           "#636efa",
           "#EF553B",
           "#00cc96",
           "#ab63fa",
           "#FFA15A",
           "#19d3f3",
           "#FF6692",
           "#B6E880",
           "#FF97FF",
           "#FECB52"
          ],
          "font": {
           "color": "#2a3f5f"
          },
          "geo": {
           "bgcolor": "white",
           "lakecolor": "white",
           "landcolor": "#E5ECF6",
           "showlakes": true,
           "showland": true,
           "subunitcolor": "white"
          },
          "hoverlabel": {
           "align": "left"
          },
          "hovermode": "closest",
          "mapbox": {
           "style": "light"
          },
          "paper_bgcolor": "white",
          "plot_bgcolor": "#E5ECF6",
          "polar": {
           "angularaxis": {
            "gridcolor": "white",
            "linecolor": "white",
            "ticks": ""
           },
           "bgcolor": "#E5ECF6",
           "radialaxis": {
            "gridcolor": "white",
            "linecolor": "white",
            "ticks": ""
           }
          },
          "scene": {
           "xaxis": {
            "backgroundcolor": "#E5ECF6",
            "gridcolor": "white",
            "gridwidth": 2,
            "linecolor": "white",
            "showbackground": true,
            "ticks": "",
            "zerolinecolor": "white"
           },
           "yaxis": {
            "backgroundcolor": "#E5ECF6",
            "gridcolor": "white",
            "gridwidth": 2,
            "linecolor": "white",
            "showbackground": true,
            "ticks": "",
            "zerolinecolor": "white"
           },
           "zaxis": {
            "backgroundcolor": "#E5ECF6",
            "gridcolor": "white",
            "gridwidth": 2,
            "linecolor": "white",
            "showbackground": true,
            "ticks": "",
            "zerolinecolor": "white"
           }
          },
          "shapedefaults": {
           "line": {
            "color": "#2a3f5f"
           }
          },
          "ternary": {
           "aaxis": {
            "gridcolor": "white",
            "linecolor": "white",
            "ticks": ""
           },
           "baxis": {
            "gridcolor": "white",
            "linecolor": "white",
            "ticks": ""
           },
           "bgcolor": "#E5ECF6",
           "caxis": {
            "gridcolor": "white",
            "linecolor": "white",
            "ticks": ""
           }
          },
          "title": {
           "x": 0.05
          },
          "xaxis": {
           "automargin": true,
           "gridcolor": "white",
           "linecolor": "white",
           "ticks": "",
           "title": {
            "standoff": 15
           },
           "zerolinecolor": "white",
           "zerolinewidth": 2
          },
          "yaxis": {
           "automargin": true,
           "gridcolor": "white",
           "linecolor": "white",
           "ticks": "",
           "title": {
            "standoff": 15
           },
           "zerolinecolor": "white",
           "zerolinewidth": 2
          }
         }
        },
        "title": {
         "text": "Point Cloud - 3lanes"
        }
       }
      }
     },
     "metadata": {},
     "output_type": "display_data"
    },
    {
     "data": {
      "application/vnd.plotly.v1+json": {
       "config": {
        "plotlyServerURL": "https://plot.ly"
       },
       "data": [
        {
         "hovertemplate": "x=%{x}<br>y=%{y}<br>z=%{z}<extra></extra>",
         "legendgroup": "",
         "marker": {
          "color": "#636efa",
          "opacity": 0.8,
          "size": 2,
          "symbol": "circle"
         },
         "mode": "markers",
         "name": "",
         "scene": "scene",
         "showlegend": false,
         "type": "scatter3d",
         "x": {
          "bdata": "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",
          "dtype": "f8"
         },
         "y": {
          "bdata": "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",
          "dtype": "f8"
         },
         "z": {
          "bdata": "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",
          "dtype": "f8"
         }
        }
       ],
       "layout": {
        "legend": {
         "tracegroupgap": 0
        },
        "scene": {
         "domain": {
          "x": [
           0,
           1
          ],
          "y": [
           0,
           1
          ]
         },
         "xaxis": {
          "title": {
           "text": "X"
          }
         },
         "yaxis": {
          "title": {
           "text": "Y"
          }
         },
         "zaxis": {
          "title": {
           "text": "Z"
          }
         }
        },
        "template": {
         "data": {
          "bar": [
           {
            "error_x": {
             "color": "#2a3f5f"
            },
            "error_y": {
             "color": "#2a3f5f"
            },
            "marker": {
             "line": {
              "color": "#E5ECF6",
              "width": 0.5
             },
             "pattern": {
              "fillmode": "overlay",
              "size": 10,
              "solidity": 0.2
             }
            },
            "type": "bar"
           }
          ],
          "barpolar": [
           {
            "marker": {
             "line": {
              "color": "#E5ECF6",
              "width": 0.5
             },
             "pattern": {
              "fillmode": "overlay",
              "size": 10,
              "solidity": 0.2
             }
            },
            "type": "barpolar"
           }
          ],
          "carpet": [
           {
            "aaxis": {
             "endlinecolor": "#2a3f5f",
             "gridcolor": "white",
             "linecolor": "white",
             "minorgridcolor": "white",
             "startlinecolor": "#2a3f5f"
            },
            "baxis": {
             "endlinecolor": "#2a3f5f",
             "gridcolor": "white",
             "linecolor": "white",
             "minorgridcolor": "white",
             "startlinecolor": "#2a3f5f"
            },
            "type": "carpet"
           }
          ],
          "choropleth": [
           {
            "colorbar": {
             "outlinewidth": 0,
             "ticks": ""
            },
            "type": "choropleth"
           }
          ],
          "contour": [
           {
            "colorbar": {
             "outlinewidth": 0,
             "ticks": ""
            },
            "colorscale": [
             [
              0,
              "#0d0887"
             ],
             [
              0.1111111111111111,
              "#46039f"
             ],
             [
              0.2222222222222222,
              "#7201a8"
             ],
             [
              0.3333333333333333,
              "#9c179e"
             ],
             [
              0.4444444444444444,
              "#bd3786"
             ],
             [
              0.5555555555555556,
              "#d8576b"
             ],
             [
              0.6666666666666666,
              "#ed7953"
             ],
             [
              0.7777777777777778,
              "#fb9f3a"
             ],
             [
              0.8888888888888888,
              "#fdca26"
             ],
             [
              1,
              "#f0f921"
             ]
            ],
            "type": "contour"
           }
          ],
          "contourcarpet": [
           {
            "colorbar": {
             "outlinewidth": 0,
             "ticks": ""
            },
            "type": "contourcarpet"
           }
          ],
          "heatmap": [
           {
            "colorbar": {
             "outlinewidth": 0,
             "ticks": ""
            },
            "colorscale": [
             [
              0,
              "#0d0887"
             ],
             [
              0.1111111111111111,
              "#46039f"
             ],
             [
              0.2222222222222222,
              "#7201a8"
             ],
             [
              0.3333333333333333,
              "#9c179e"
             ],
             [
              0.4444444444444444,
              "#bd3786"
             ],
             [
              0.5555555555555556,
              "#d8576b"
             ],
             [
              0.6666666666666666,
              "#ed7953"
             ],
             [
              0.7777777777777778,
              "#fb9f3a"
             ],
             [
              0.8888888888888888,
              "#fdca26"
             ],
             [
              1,
              "#f0f921"
             ]
            ],
            "type": "heatmap"
           }
          ],
          "histogram": [
           {
            "marker": {
             "pattern": {
              "fillmode": "overlay",
              "size": 10,
              "solidity": 0.2
             }
            },
            "type": "histogram"
           }
          ],
          "histogram2d": [
           {
            "colorbar": {
             "outlinewidth": 0,
             "ticks": ""
            },
            "colorscale": [
             [
              0,
              "#0d0887"
             ],
             [
              0.1111111111111111,
              "#46039f"
             ],
             [
              0.2222222222222222,
              "#7201a8"
             ],
             [
              0.3333333333333333,
              "#9c179e"
             ],
             [
              0.4444444444444444,
              "#bd3786"
             ],
             [
              0.5555555555555556,
              "#d8576b"
             ],
             [
              0.6666666666666666,
              "#ed7953"
             ],
             [
              0.7777777777777778,
              "#fb9f3a"
             ],
             [
              0.8888888888888888,
              "#fdca26"
             ],
             [
              1,
              "#f0f921"
             ]
            ],
            "type": "histogram2d"
           }
          ],
          "histogram2dcontour": [
           {
            "colorbar": {
             "outlinewidth": 0,
             "ticks": ""
            },
            "colorscale": [
             [
              0,
              "#0d0887"
             ],
             [
              0.1111111111111111,
              "#46039f"
             ],
             [
              0.2222222222222222,
              "#7201a8"
             ],
             [
              0.3333333333333333,
              "#9c179e"
             ],
             [
              0.4444444444444444,
              "#bd3786"
             ],
             [
              0.5555555555555556,
              "#d8576b"
             ],
             [
              0.6666666666666666,
              "#ed7953"
             ],
             [
              0.7777777777777778,
              "#fb9f3a"
             ],
             [
              0.8888888888888888,
              "#fdca26"
             ],
             [
              1,
              "#f0f921"
             ]
            ],
            "type": "histogram2dcontour"
           }
          ],
          "mesh3d": [
           {
            "colorbar": {
             "outlinewidth": 0,
             "ticks": ""
            },
            "type": "mesh3d"
           }
          ],
          "parcoords": [
           {
            "line": {
             "colorbar": {
              "outlinewidth": 0,
              "ticks": ""
             }
            },
            "type": "parcoords"
           }
          ],
          "pie": [
           {
            "automargin": true,
            "type": "pie"
           }
          ],
          "scatter": [
           {
            "fillpattern": {
             "fillmode": "overlay",
             "size": 10,
             "solidity": 0.2
            },
            "type": "scatter"
           }
          ],
          "scatter3d": [
           {
            "line": {
             "colorbar": {
              "outlinewidth": 0,
              "ticks": ""
             }
            },
            "marker": {
             "colorbar": {
              "outlinewidth": 0,
              "ticks": ""
             }
            },
            "type": "scatter3d"
           }
          ],
          "scattercarpet": [
           {
            "marker": {
             "colorbar": {
              "outlinewidth": 0,
              "ticks": ""
             }
            },
            "type": "scattercarpet"
           }
          ],
          "scattergeo": [
           {
            "marker": {
             "colorbar": {
              "outlinewidth": 0,
              "ticks": ""
             }
            },
            "type": "scattergeo"
           }
          ],
          "scattergl": [
           {
            "marker": {
             "colorbar": {
              "outlinewidth": 0,
              "ticks": ""
             }
            },
            "type": "scattergl"
           }
          ],
          "scattermap": [
           {
            "marker": {
             "colorbar": {
              "outlinewidth": 0,
              "ticks": ""
             }
            },
            "type": "scattermap"
           }
          ],
          "scattermapbox": [
           {
            "marker": {
             "colorbar": {
              "outlinewidth": 0,
              "ticks": ""
             }
            },
            "type": "scattermapbox"
           }
          ],
          "scatterpolar": [
           {
            "marker": {
             "colorbar": {
              "outlinewidth": 0,
              "ticks": ""
             }
            },
            "type": "scatterpolar"
           }
          ],
          "scatterpolargl": [
           {
            "marker": {
             "colorbar": {
              "outlinewidth": 0,
              "ticks": ""
             }
            },
            "type": "scatterpolargl"
           }
          ],
          "scatterternary": [
           {
            "marker": {
             "colorbar": {
              "outlinewidth": 0,
              "ticks": ""
             }
            },
            "type": "scatterternary"
           }
          ],
          "surface": [
           {
            "colorbar": {
             "outlinewidth": 0,
             "ticks": ""
            },
            "colorscale": [
             [
              0,
              "#0d0887"
             ],
             [
              0.1111111111111111,
              "#46039f"
             ],
             [
              0.2222222222222222,
              "#7201a8"
             ],
             [
              0.3333333333333333,
              "#9c179e"
             ],
             [
              0.4444444444444444,
              "#bd3786"
             ],
             [
              0.5555555555555556,
              "#d8576b"
             ],
             [
              0.6666666666666666,
              "#ed7953"
             ],
             [
              0.7777777777777778,
              "#fb9f3a"
             ],
             [
              0.8888888888888888,
              "#fdca26"
             ],
             [
              1,
              "#f0f921"
             ]
            ],
            "type": "surface"
           }
          ],
          "table": [
           {
            "cells": {
             "fill": {
              "color": "#EBF0F8"
             },
             "line": {
              "color": "white"
             }
            },
            "header": {
             "fill": {
              "color": "#C8D4E3"
             },
             "line": {
              "color": "white"
             }
            },
            "type": "table"
           }
          ]
         },
         "layout": {
          "annotationdefaults": {
           "arrowcolor": "#2a3f5f",
           "arrowhead": 0,
           "arrowwidth": 1
          },
          "autotypenumbers": "strict",
          "coloraxis": {
           "colorbar": {
            "outlinewidth": 0,
            "ticks": ""
           }
          },
          "colorscale": {
           "diverging": [
            [
             0,
             "#8e0152"
            ],
            [
             0.1,
             "#c51b7d"
            ],
            [
             0.2,
             "#de77ae"
            ],
            [
             0.3,
             "#f1b6da"
            ],
            [
             0.4,
             "#fde0ef"
            ],
            [
             0.5,
             "#f7f7f7"
            ],
            [
             0.6,
             "#e6f5d0"
            ],
            [
             0.7,
             "#b8e186"
            ],
            [
             0.8,
             "#7fbc41"
            ],
            [
             0.9,
             "#4d9221"
            ],
            [
             1,
             "#276419"
            ]
           ],
           "sequential": [
            [
             0,
             "#0d0887"
            ],
            [
             0.1111111111111111,
             "#46039f"
            ],
            [
             0.2222222222222222,
             "#7201a8"
            ],
            [
             0.3333333333333333,
             "#9c179e"
            ],
            [
             0.4444444444444444,
             "#bd3786"
            ],
            [
             0.5555555555555556,
             "#d8576b"
            ],
            [
             0.6666666666666666,
             "#ed7953"
            ],
            [
             0.7777777777777778,
             "#fb9f3a"
            ],
            [
             0.8888888888888888,
             "#fdca26"
            ],
            [
             1,
             "#f0f921"
            ]
           ],
           "sequentialminus": [
            [
             0,
             "#0d0887"
            ],
            [
             0.1111111111111111,
             "#46039f"
            ],
            [
             0.2222222222222222,
             "#7201a8"
            ],
            [
             0.3333333333333333,
             "#9c179e"
            ],
            [
             0.4444444444444444,
             "#bd3786"
            ],
            [
             0.5555555555555556,
             "#d8576b"
            ],
            [
             0.6666666666666666,
             "#ed7953"
            ],
            [
             0.7777777777777778,
             "#fb9f3a"
            ],
            [
             0.8888888888888888,
             "#fdca26"
            ],
            [
             1,
             "#f0f921"
            ]
           ]
          },
          "colorway": [
           "#636efa",
           "#EF553B",
           "#00cc96",
           "#ab63fa",
           "#FFA15A",
           "#19d3f3",
           "#FF6692",
           "#B6E880",
           "#FF97FF",
           "#FECB52"
          ],
          "font": {
           "color": "#2a3f5f"
          },
          "geo": {
           "bgcolor": "white",
           "lakecolor": "white",
           "landcolor": "#E5ECF6",
           "showlakes": true,
           "showland": true,
           "subunitcolor": "white"
          },
          "hoverlabel": {
           "align": "left"
          },
          "hovermode": "closest",
          "mapbox": {
           "style": "light"
          },
          "paper_bgcolor": "white",
          "plot_bgcolor": "#E5ECF6",
          "polar": {
           "angularaxis": {
            "gridcolor": "white",
            "linecolor": "white",
            "ticks": ""
           },
           "bgcolor": "#E5ECF6",
           "radialaxis": {
            "gridcolor": "white",
            "linecolor": "white",
            "ticks": ""
           }
          },
          "scene": {
           "xaxis": {
            "backgroundcolor": "#E5ECF6",
            "gridcolor": "white",
            "gridwidth": 2,
            "linecolor": "white",
            "showbackground": true,
            "ticks": "",
            "zerolinecolor": "white"
           },
           "yaxis": {
            "backgroundcolor": "#E5ECF6",
            "gridcolor": "white",
            "gridwidth": 2,
            "linecolor": "white",
            "showbackground": true,
            "ticks": "",
            "zerolinecolor": "white"
           },
           "zaxis": {
            "backgroundcolor": "#E5ECF6",
            "gridcolor": "white",
            "gridwidth": 2,
            "linecolor": "white",
            "showbackground": true,
            "ticks": "",
            "zerolinecolor": "white"
           }
          },
          "shapedefaults": {
           "line": {
            "color": "#2a3f5f"
           }
          },
          "ternary": {
           "aaxis": {
            "gridcolor": "white",
            "linecolor": "white",
            "ticks": ""
           },
           "baxis": {
            "gridcolor": "white",
            "linecolor": "white",
            "ticks": ""
           },
           "bgcolor": "#E5ECF6",
           "caxis": {
            "gridcolor": "white",
            "linecolor": "white",
            "ticks": ""
           }
          },
          "title": {
           "x": 0.05
          },
          "xaxis": {
           "automargin": true,
           "gridcolor": "white",
           "linecolor": "white",
           "ticks": "",
           "title": {
            "standoff": 15
           },
           "zerolinecolor": "white",
           "zerolinewidth": 2
          },
          "yaxis": {
           "automargin": true,
           "gridcolor": "white",
           "linecolor": "white",
           "ticks": "",
           "title": {
            "standoff": 15
           },
           "zerolinecolor": "white",
           "zerolinewidth": 2
          }
         }
        },
        "title": {
         "text": "Point Cloud - crossing"
        }
       }
      }
     },
     "metadata": {},
     "output_type": "display_data"
    },
    {
     "data": {
      "application/vnd.plotly.v1+json": {
       "config": {
        "plotlyServerURL": "https://plot.ly"
       },
       "data": [
        {
         "hovertemplate": "x=%{x}<br>y=%{y}<br>z=%{z}<extra></extra>",
         "legendgroup": "",
         "marker": {
          "color": "#636efa",
          "opacity": 0.8,
          "size": 2,
          "symbol": "circle"
         },
         "mode": "markers",
         "name": "",
         "scene": "scene",
         "showlegend": false,
         "type": "scatter3d",
         "x": {
          "bdata": "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",
          "dtype": "f8"
         },
         "y": {
          "bdata": "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",
          "dtype": "f8"
         },
         "z": {
          "bdata": "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",
          "dtype": "f8"
         }
        }
       ],
       "layout": {
        "legend": {
         "tracegroupgap": 0
        },
        "scene": {
         "domain": {
          "x": [
           0,
           1
          ],
          "y": [
           0,
           1
          ]
         },
         "xaxis": {
          "title": {
           "text": "X"
          }
         },
         "yaxis": {
          "title": {
           "text": "Y"
          }
         },
         "zaxis": {
          "title": {
           "text": "Z"
          }
         }
        },
        "template": {
         "data": {
          "bar": [
           {
            "error_x": {
             "color": "#2a3f5f"
            },
            "error_y": {
             "color": "#2a3f5f"
            },
            "marker": {
             "line": {
              "color": "#E5ECF6",
              "width": 0.5
             },
             "pattern": {
              "fillmode": "overlay",
              "size": 10,
              "solidity": 0.2
             }
            },
            "type": "bar"
           }
          ],
          "barpolar": [
           {
            "marker": {
             "line": {
              "color": "#E5ECF6",
              "width": 0.5
             },
             "pattern": {
              "fillmode": "overlay",
              "size": 10,
              "solidity": 0.2
             }
            },
            "type": "barpolar"
           }
          ],
          "carpet": [
           {
            "aaxis": {
             "endlinecolor": "#2a3f5f",
             "gridcolor": "white",
             "linecolor": "white",
             "minorgridcolor": "white",
             "startlinecolor": "#2a3f5f"
            },
            "baxis": {
             "endlinecolor": "#2a3f5f",
             "gridcolor": "white",
             "linecolor": "white",
             "minorgridcolor": "white",
             "startlinecolor": "#2a3f5f"
            },
            "type": "carpet"
           }
          ],
          "choropleth": [
           {
            "colorbar": {
             "outlinewidth": 0,
             "ticks": ""
            },
            "type": "choropleth"
           }
          ],
          "contour": [
           {
            "colorbar": {
             "outlinewidth": 0,
             "ticks": ""
            },
            "colorscale": [
             [
              0,
              "#0d0887"
             ],
             [
              0.1111111111111111,
              "#46039f"
             ],
             [
              0.2222222222222222,
              "#7201a8"
             ],
             [
              0.3333333333333333,
              "#9c179e"
             ],
             [
              0.4444444444444444,
              "#bd3786"
             ],
             [
              0.5555555555555556,
              "#d8576b"
             ],
             [
              0.6666666666666666,
              "#ed7953"
             ],
             [
              0.7777777777777778,
              "#fb9f3a"
             ],
             [
              0.8888888888888888,
              "#fdca26"
             ],
             [
              1,
              "#f0f921"
             ]
            ],
            "type": "contour"
           }
          ],
          "contourcarpet": [
           {
            "colorbar": {
             "outlinewidth": 0,
             "ticks": ""
            },
            "type": "contourcarpet"
           }
          ],
          "heatmap": [
           {
            "colorbar": {
             "outlinewidth": 0,
             "ticks": ""
            },
            "colorscale": [
             [
              0,
              "#0d0887"
             ],
             [
              0.1111111111111111,
              "#46039f"
             ],
             [
              0.2222222222222222,
              "#7201a8"
             ],
             [
              0.3333333333333333,
              "#9c179e"
             ],
             [
              0.4444444444444444,
              "#bd3786"
             ],
             [
              0.5555555555555556,
              "#d8576b"
             ],
             [
              0.6666666666666666,
              "#ed7953"
             ],
             [
              0.7777777777777778,
              "#fb9f3a"
             ],
             [
              0.8888888888888888,
              "#fdca26"
             ],
             [
              1,
              "#f0f921"
             ]
            ],
            "type": "heatmap"
           }
          ],
          "histogram": [
           {
            "marker": {
             "pattern": {
              "fillmode": "overlay",
              "size": 10,
              "solidity": 0.2
             }
            },
            "type": "histogram"
           }
          ],
          "histogram2d": [
           {
            "colorbar": {
             "outlinewidth": 0,
             "ticks": ""
            },
            "colorscale": [
             [
              0,
              "#0d0887"
             ],
             [
              0.1111111111111111,
              "#46039f"
             ],
             [
              0.2222222222222222,
              "#7201a8"
             ],
             [
              0.3333333333333333,
              "#9c179e"
             ],
             [
              0.4444444444444444,
              "#bd3786"
             ],
             [
              0.5555555555555556,
              "#d8576b"
             ],
             [
              0.6666666666666666,
              "#ed7953"
             ],
             [
              0.7777777777777778,
              "#fb9f3a"
             ],
             [
              0.8888888888888888,
              "#fdca26"
             ],
             [
              1,
              "#f0f921"
             ]
            ],
            "type": "histogram2d"
           }
          ],
          "histogram2dcontour": [
           {
            "colorbar": {
             "outlinewidth": 0,
             "ticks": ""
            },
            "colorscale": [
             [
              0,
              "#0d0887"
             ],
             [
              0.1111111111111111,
              "#46039f"
             ],
             [
              0.2222222222222222,
              "#7201a8"
             ],
             [
              0.3333333333333333,
              "#9c179e"
             ],
             [
              0.4444444444444444,
              "#bd3786"
             ],
             [
              0.5555555555555556,
              "#d8576b"
             ],
             [
              0.6666666666666666,
              "#ed7953"
             ],
             [
              0.7777777777777778,
              "#fb9f3a"
             ],
             [
              0.8888888888888888,
              "#fdca26"
             ],
             [
              1,
              "#f0f921"
             ]
            ],
            "type": "histogram2dcontour"
           }
          ],
          "mesh3d": [
           {
            "colorbar": {
             "outlinewidth": 0,
             "ticks": ""
            },
            "type": "mesh3d"
           }
          ],
          "parcoords": [
           {
            "line": {
             "colorbar": {
              "outlinewidth": 0,
              "ticks": ""
             }
            },
            "type": "parcoords"
           }
          ],
          "pie": [
           {
            "automargin": true,
            "type": "pie"
           }
          ],
          "scatter": [
           {
            "fillpattern": {
             "fillmode": "overlay",
             "size": 10,
             "solidity": 0.2
            },
            "type": "scatter"
           }
          ],
          "scatter3d": [
           {
            "line": {
             "colorbar": {
              "outlinewidth": 0,
              "ticks": ""
             }
            },
            "marker": {
             "colorbar": {
              "outlinewidth": 0,
              "ticks": ""
             }
            },
            "type": "scatter3d"
           }
          ],
          "scattercarpet": [
           {
            "marker": {
             "colorbar": {
              "outlinewidth": 0,
              "ticks": ""
             }
            },
            "type": "scattercarpet"
           }
          ],
          "scattergeo": [
           {
            "marker": {
             "colorbar": {
              "outlinewidth": 0,
              "ticks": ""
             }
            },
            "type": "scattergeo"
           }
          ],
          "scattergl": [
           {
            "marker": {
             "colorbar": {
              "outlinewidth": 0,
              "ticks": ""
             }
            },
            "type": "scattergl"
           }
          ],
          "scattermap": [
           {
            "marker": {
             "colorbar": {
              "outlinewidth": 0,
              "ticks": ""
             }
            },
            "type": "scattermap"
           }
          ],
          "scattermapbox": [
           {
            "marker": {
             "colorbar": {
              "outlinewidth": 0,
              "ticks": ""
             }
            },
            "type": "scattermapbox"
           }
          ],
          "scatterpolar": [
           {
            "marker": {
             "colorbar": {
              "outlinewidth": 0,
              "ticks": ""
             }
            },
            "type": "scatterpolar"
           }
          ],
          "scatterpolargl": [
           {
            "marker": {
             "colorbar": {
              "outlinewidth": 0,
              "ticks": ""
             }
            },
            "type": "scatterpolargl"
           }
          ],
          "scatterternary": [
           {
            "marker": {
             "colorbar": {
              "outlinewidth": 0,
              "ticks": ""
             }
            },
            "type": "scatterternary"
           }
          ],
          "surface": [
           {
            "colorbar": {
             "outlinewidth": 0,
             "ticks": ""
            },
            "colorscale": [
             [
              0,
              "#0d0887"
             ],
             [
              0.1111111111111111,
              "#46039f"
             ],
             [
              0.2222222222222222,
              "#7201a8"
             ],
             [
              0.3333333333333333,
              "#9c179e"
             ],
             [
              0.4444444444444444,
              "#bd3786"
             ],
             [
              0.5555555555555556,
              "#d8576b"
             ],
             [
              0.6666666666666666,
              "#ed7953"
             ],
             [
              0.7777777777777778,
              "#fb9f3a"
             ],
             [
              0.8888888888888888,
              "#fdca26"
             ],
             [
              1,
              "#f0f921"
             ]
            ],
            "type": "surface"
           }
          ],
          "table": [
           {
            "cells": {
             "fill": {
              "color": "#EBF0F8"
             },
             "line": {
              "color": "white"
             }
            },
            "header": {
             "fill": {
              "color": "#C8D4E3"
             },
             "line": {
              "color": "white"
             }
            },
            "type": "table"
           }
          ]
         },
         "layout": {
          "annotationdefaults": {
           "arrowcolor": "#2a3f5f",
           "arrowhead": 0,
           "arrowwidth": 1
          },
          "autotypenumbers": "strict",
          "coloraxis": {
           "colorbar": {
            "outlinewidth": 0,
            "ticks": ""
           }
          },
          "colorscale": {
           "diverging": [
            [
             0,
             "#8e0152"
            ],
            [
             0.1,
             "#c51b7d"
            ],
            [
             0.2,
             "#de77ae"
            ],
            [
             0.3,
             "#f1b6da"
            ],
            [
             0.4,
             "#fde0ef"
            ],
            [
             0.5,
             "#f7f7f7"
            ],
            [
             0.6,
             "#e6f5d0"
            ],
            [
             0.7,
             "#b8e186"
            ],
            [
             0.8,
             "#7fbc41"
            ],
            [
             0.9,
             "#4d9221"
            ],
            [
             1,
             "#276419"
            ]
           ],
           "sequential": [
            [
             0,
             "#0d0887"
            ],
            [
             0.1111111111111111,
             "#46039f"
            ],
            [
             0.2222222222222222,
             "#7201a8"
            ],
            [
             0.3333333333333333,
             "#9c179e"
            ],
            [
             0.4444444444444444,
             "#bd3786"
            ],
            [
             0.5555555555555556,
             "#d8576b"
            ],
            [
             0.6666666666666666,
             "#ed7953"
            ],
            [
             0.7777777777777778,
             "#fb9f3a"
            ],
            [
             0.8888888888888888,
             "#fdca26"
            ],
            [
             1,
             "#f0f921"
            ]
           ],
           "sequentialminus": [
            [
             0,
             "#0d0887"
            ],
            [
             0.1111111111111111,
             "#46039f"
            ],
            [
             0.2222222222222222,
             "#7201a8"
            ],
            [
             0.3333333333333333,
             "#9c179e"
            ],
            [
             0.4444444444444444,
             "#bd3786"
            ],
            [
             0.5555555555555556,
             "#d8576b"
            ],
            [
             0.6666666666666666,
             "#ed7953"
            ],
            [
             0.7777777777777778,
             "#fb9f3a"
            ],
            [
             0.8888888888888888,
             "#fdca26"
            ],
            [
             1,
             "#f0f921"
            ]
           ]
          },
          "colorway": [
           "#636efa",
           "#EF553B",
           "#00cc96",
           "#ab63fa",
           "#FFA15A",
           "#19d3f3",
           "#FF6692",
           "#B6E880",
           "#FF97FF",
           "#FECB52"
          ],
          "font": {
           "color": "#2a3f5f"
          },
          "geo": {
           "bgcolor": "white",
           "lakecolor": "white",
           "landcolor": "#E5ECF6",
           "showlakes": true,
           "showland": true,
           "subunitcolor": "white"
          },
          "hoverlabel": {
           "align": "left"
          },
          "hovermode": "closest",
          "mapbox": {
           "style": "light"
          },
          "paper_bgcolor": "white",
          "plot_bgcolor": "#E5ECF6",
          "polar": {
           "angularaxis": {
            "gridcolor": "white",
            "linecolor": "white",
            "ticks": ""
           },
           "bgcolor": "#E5ECF6",
           "radialaxis": {
            "gridcolor": "white",
            "linecolor": "white",
            "ticks": ""
           }
          },
          "scene": {
           "xaxis": {
            "backgroundcolor": "#E5ECF6",
            "gridcolor": "white",
            "gridwidth": 2,
            "linecolor": "white",
            "showbackground": true,
            "ticks": "",
            "zerolinecolor": "white"
           },
           "yaxis": {
            "backgroundcolor": "#E5ECF6",
            "gridcolor": "white",
            "gridwidth": 2,
            "linecolor": "white",
            "showbackground": true,
            "ticks": "",
            "zerolinecolor": "white"
           },
           "zaxis": {
            "backgroundcolor": "#E5ECF6",
            "gridcolor": "white",
            "gridwidth": 2,
            "linecolor": "white",
            "showbackground": true,
            "ticks": "",
            "zerolinecolor": "white"
           }
          },
          "shapedefaults": {
           "line": {
            "color": "#2a3f5f"
           }
          },
          "ternary": {
           "aaxis": {
            "gridcolor": "white",
            "linecolor": "white",
            "ticks": ""
           },
           "baxis": {
            "gridcolor": "white",
            "linecolor": "white",
            "ticks": ""
           },
           "bgcolor": "#E5ECF6",
           "caxis": {
            "gridcolor": "white",
            "linecolor": "white",
            "ticks": ""
           }
          },
          "title": {
           "x": 0.05
          },
          "xaxis": {
           "automargin": true,
           "gridcolor": "white",
           "linecolor": "white",
           "ticks": "",
           "title": {
            "standoff": 15
           },
           "zerolinecolor": "white",
           "zerolinewidth": 2
          },
          "yaxis": {
           "automargin": true,
           "gridcolor": "white",
           "linecolor": "white",
           "ticks": "",
           "title": {
            "standoff": 15
           },
           "zerolinecolor": "white",
           "zerolinewidth": 2
          }
         }
        },
        "title": {
         "text": "Point Cloud - split4lanes"
        }
       }
      }
     },
     "metadata": {},
     "output_type": "display_data"
    },
    {
     "data": {
      "application/vnd.plotly.v1+json": {
       "config": {
        "plotlyServerURL": "https://plot.ly"
       },
       "data": [
        {
         "hovertemplate": "x=%{x}<br>y=%{y}<br>z=%{z}<extra></extra>",
         "legendgroup": "",
         "marker": {
          "color": "#636efa",
          "opacity": 0.8,
          "size": 2,
          "symbol": "circle"
         },
         "mode": "markers",
         "name": "",
         "scene": "scene",
         "showlegend": false,
         "type": "scatter3d",
         "x": {
          "bdata": "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",
          "dtype": "f8"
         },
         "y": {
          "bdata": "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",
          "dtype": "f8"
         },
         "z": {
          "bdata": "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",
          "dtype": "f8"
         }
        }
       ],
       "layout": {
        "legend": {
         "tracegroupgap": 0
        },
        "scene": {
         "domain": {
          "x": [
           0,
           1
          ],
          "y": [
           0,
           1
          ]
         },
         "xaxis": {
          "title": {
           "text": "X"
          }
         },
         "yaxis": {
          "title": {
           "text": "Y"
          }
         },
         "zaxis": {
          "title": {
           "text": "Z"
          }
         }
        },
        "template": {
         "data": {
          "bar": [
           {
            "error_x": {
             "color": "#2a3f5f"
            },
            "error_y": {
             "color": "#2a3f5f"
            },
            "marker": {
             "line": {
              "color": "#E5ECF6",
              "width": 0.5
             },
             "pattern": {
              "fillmode": "overlay",
              "size": 10,
              "solidity": 0.2
             }
            },
            "type": "bar"
           }
          ],
          "barpolar": [
           {
            "marker": {
             "line": {
              "color": "#E5ECF6",
              "width": 0.5
             },
             "pattern": {
              "fillmode": "overlay",
              "size": 10,
              "solidity": 0.2
             }
            },
            "type": "barpolar"
           }
          ],
          "carpet": [
           {
            "aaxis": {
             "endlinecolor": "#2a3f5f",
             "gridcolor": "white",
             "linecolor": "white",
             "minorgridcolor": "white",
             "startlinecolor": "#2a3f5f"
            },
            "baxis": {
             "endlinecolor": "#2a3f5f",
             "gridcolor": "white",
             "linecolor": "white",
             "minorgridcolor": "white",
             "startlinecolor": "#2a3f5f"
            },
            "type": "carpet"
           }
          ],
          "choropleth": [
           {
            "colorbar": {
             "outlinewidth": 0,
             "ticks": ""
            },
            "type": "choropleth"
           }
          ],
          "contour": [
           {
            "colorbar": {
             "outlinewidth": 0,
             "ticks": ""
            },
            "colorscale": [
             [
              0,
              "#0d0887"
             ],
             [
              0.1111111111111111,
              "#46039f"
             ],
             [
              0.2222222222222222,
              "#7201a8"
             ],
             [
              0.3333333333333333,
              "#9c179e"
             ],
             [
              0.4444444444444444,
              "#bd3786"
             ],
             [
              0.5555555555555556,
              "#d8576b"
             ],
             [
              0.6666666666666666,
              "#ed7953"
             ],
             [
              0.7777777777777778,
              "#fb9f3a"
             ],
             [
              0.8888888888888888,
              "#fdca26"
             ],
             [
              1,
              "#f0f921"
             ]
            ],
            "type": "contour"
           }
          ],
          "contourcarpet": [
           {
            "colorbar": {
             "outlinewidth": 0,
             "ticks": ""
            },
            "type": "contourcarpet"
           }
          ],
          "heatmap": [
           {
            "colorbar": {
             "outlinewidth": 0,
             "ticks": ""
            },
            "colorscale": [
             [
              0,
              "#0d0887"
             ],
             [
              0.1111111111111111,
              "#46039f"
             ],
             [
              0.2222222222222222,
              "#7201a8"
             ],
             [
              0.3333333333333333,
              "#9c179e"
             ],
             [
              0.4444444444444444,
              "#bd3786"
             ],
             [
              0.5555555555555556,
              "#d8576b"
             ],
             [
              0.6666666666666666,
              "#ed7953"
             ],
             [
              0.7777777777777778,
              "#fb9f3a"
             ],
             [
              0.8888888888888888,
              "#fdca26"
             ],
             [
              1,
              "#f0f921"
             ]
            ],
            "type": "heatmap"
           }
          ],
          "histogram": [
           {
            "marker": {
             "pattern": {
              "fillmode": "overlay",
              "size": 10,
              "solidity": 0.2
             }
            },
            "type": "histogram"
           }
          ],
          "histogram2d": [
           {
            "colorbar": {
             "outlinewidth": 0,
             "ticks": ""
            },
            "colorscale": [
             [
              0,
              "#0d0887"
             ],
             [
              0.1111111111111111,
              "#46039f"
             ],
             [
              0.2222222222222222,
              "#7201a8"
             ],
             [
              0.3333333333333333,
              "#9c179e"
             ],
             [
              0.4444444444444444,
              "#bd3786"
             ],
             [
              0.5555555555555556,
              "#d8576b"
             ],
             [
              0.6666666666666666,
              "#ed7953"
             ],
             [
              0.7777777777777778,
              "#fb9f3a"
             ],
             [
              0.8888888888888888,
              "#fdca26"
             ],
             [
              1,
              "#f0f921"
             ]
            ],
            "type": "histogram2d"
           }
          ],
          "histogram2dcontour": [
           {
            "colorbar": {
             "outlinewidth": 0,
             "ticks": ""
            },
            "colorscale": [
             [
              0,
              "#0d0887"
             ],
             [
              0.1111111111111111,
              "#46039f"
             ],
             [
              0.2222222222222222,
              "#7201a8"
             ],
             [
              0.3333333333333333,
              "#9c179e"
             ],
             [
              0.4444444444444444,
              "#bd3786"
             ],
             [
              0.5555555555555556,
              "#d8576b"
             ],
             [
              0.6666666666666666,
              "#ed7953"
             ],
             [
              0.7777777777777778,
              "#fb9f3a"
             ],
             [
              0.8888888888888888,
              "#fdca26"
             ],
             [
              1,
              "#f0f921"
             ]
            ],
            "type": "histogram2dcontour"
           }
          ],
          "mesh3d": [
           {
            "colorbar": {
             "outlinewidth": 0,
             "ticks": ""
            },
            "type": "mesh3d"
           }
          ],
          "parcoords": [
           {
            "line": {
             "colorbar": {
              "outlinewidth": 0,
              "ticks": ""
             }
            },
            "type": "parcoords"
           }
          ],
          "pie": [
           {
            "automargin": true,
            "type": "pie"
           }
          ],
          "scatter": [
           {
            "fillpattern": {
             "fillmode": "overlay",
             "size": 10,
             "solidity": 0.2
            },
            "type": "scatter"
           }
          ],
          "scatter3d": [
           {
            "line": {
             "colorbar": {
              "outlinewidth": 0,
              "ticks": ""
             }
            },
            "marker": {
             "colorbar": {
              "outlinewidth": 0,
              "ticks": ""
             }
            },
            "type": "scatter3d"
           }
          ],
          "scattercarpet": [
           {
            "marker": {
             "colorbar": {
              "outlinewidth": 0,
              "ticks": ""
             }
            },
            "type": "scattercarpet"
           }
          ],
          "scattergeo": [
           {
            "marker": {
             "colorbar": {
              "outlinewidth": 0,
              "ticks": ""
             }
            },
            "type": "scattergeo"
           }
          ],
          "scattergl": [
           {
            "marker": {
             "colorbar": {
              "outlinewidth": 0,
              "ticks": ""
             }
            },
            "type": "scattergl"
           }
          ],
          "scattermap": [
           {
            "marker": {
             "colorbar": {
              "outlinewidth": 0,
              "ticks": ""
             }
            },
            "type": "scattermap"
           }
          ],
          "scattermapbox": [
           {
            "marker": {
             "colorbar": {
              "outlinewidth": 0,
              "ticks": ""
             }
            },
            "type": "scattermapbox"
           }
          ],
          "scatterpolar": [
           {
            "marker": {
             "colorbar": {
              "outlinewidth": 0,
              "ticks": ""
             }
            },
            "type": "scatterpolar"
           }
          ],
          "scatterpolargl": [
           {
            "marker": {
             "colorbar": {
              "outlinewidth": 0,
              "ticks": ""
             }
            },
            "type": "scatterpolargl"
           }
          ],
          "scatterternary": [
           {
            "marker": {
             "colorbar": {
              "outlinewidth": 0,
              "ticks": ""
             }
            },
            "type": "scatterternary"
           }
          ],
          "surface": [
           {
            "colorbar": {
             "outlinewidth": 0,
             "ticks": ""
            },
            "colorscale": [
             [
              0,
              "#0d0887"
             ],
             [
              0.1111111111111111,
              "#46039f"
             ],
             [
              0.2222222222222222,
              "#7201a8"
             ],
             [
              0.3333333333333333,
              "#9c179e"
             ],
             [
              0.4444444444444444,
              "#bd3786"
             ],
             [
              0.5555555555555556,
              "#d8576b"
             ],
             [
              0.6666666666666666,
              "#ed7953"
             ],
             [
              0.7777777777777778,
              "#fb9f3a"
             ],
             [
              0.8888888888888888,
              "#fdca26"
             ],
             [
              1,
              "#f0f921"
             ]
            ],
            "type": "surface"
           }
          ],
          "table": [
           {
            "cells": {
             "fill": {
              "color": "#EBF0F8"
             },
             "line": {
              "color": "white"
             }
            },
            "header": {
             "fill": {
              "color": "#C8D4E3"
             },
             "line": {
              "color": "white"
             }
            },
            "type": "table"
           }
          ]
         },
         "layout": {
          "annotationdefaults": {
           "arrowcolor": "#2a3f5f",
           "arrowhead": 0,
           "arrowwidth": 1
          },
          "autotypenumbers": "strict",
          "coloraxis": {
           "colorbar": {
            "outlinewidth": 0,
            "ticks": ""
           }
          },
          "colorscale": {
           "diverging": [
            [
             0,
             "#8e0152"
            ],
            [
             0.1,
             "#c51b7d"
            ],
            [
             0.2,
             "#de77ae"
            ],
            [
             0.3,
             "#f1b6da"
            ],
            [
             0.4,
             "#fde0ef"
            ],
            [
             0.5,
             "#f7f7f7"
            ],
            [
             0.6,
             "#e6f5d0"
            ],
            [
             0.7,
             "#b8e186"
            ],
            [
             0.8,
             "#7fbc41"
            ],
            [
             0.9,
             "#4d9221"
            ],
            [
             1,
             "#276419"
            ]
           ],
           "sequential": [
            [
             0,
             "#0d0887"
            ],
            [
             0.1111111111111111,
             "#46039f"
            ],
            [
             0.2222222222222222,
             "#7201a8"
            ],
            [
             0.3333333333333333,
             "#9c179e"
            ],
            [
             0.4444444444444444,
             "#bd3786"
            ],
            [
             0.5555555555555556,
             "#d8576b"
            ],
            [
             0.6666666666666666,
             "#ed7953"
            ],
            [
             0.7777777777777778,
             "#fb9f3a"
            ],
            [
             0.8888888888888888,
             "#fdca26"
            ],
            [
             1,
             "#f0f921"
            ]
           ],
           "sequentialminus": [
            [
             0,
             "#0d0887"
            ],
            [
             0.1111111111111111,
             "#46039f"
            ],
            [
             0.2222222222222222,
             "#7201a8"
            ],
            [
             0.3333333333333333,
             "#9c179e"
            ],
            [
             0.4444444444444444,
             "#bd3786"
            ],
            [
             0.5555555555555556,
             "#d8576b"
            ],
            [
             0.6666666666666666,
             "#ed7953"
            ],
            [
             0.7777777777777778,
             "#fb9f3a"
            ],
            [
             0.8888888888888888,
             "#fdca26"
            ],
            [
             1,
             "#f0f921"
            ]
           ]
          },
          "colorway": [
           "#636efa",
           "#EF553B",
           "#00cc96",
           "#ab63fa",
           "#FFA15A",
           "#19d3f3",
           "#FF6692",
           "#B6E880",
           "#FF97FF",
           "#FECB52"
          ],
          "font": {
           "color": "#2a3f5f"
          },
          "geo": {
           "bgcolor": "white",
           "lakecolor": "white",
           "landcolor": "#E5ECF6",
           "showlakes": true,
           "showland": true,
           "subunitcolor": "white"
          },
          "hoverlabel": {
           "align": "left"
          },
          "hovermode": "closest",
          "mapbox": {
           "style": "light"
          },
          "paper_bgcolor": "white",
          "plot_bgcolor": "#E5ECF6",
          "polar": {
           "angularaxis": {
            "gridcolor": "white",
            "linecolor": "white",
            "ticks": ""
           },
           "bgcolor": "#E5ECF6",
           "radialaxis": {
            "gridcolor": "white",
            "linecolor": "white",
            "ticks": ""
           }
          },
          "scene": {
           "xaxis": {
            "backgroundcolor": "#E5ECF6",
            "gridcolor": "white",
            "gridwidth": 2,
            "linecolor": "white",
            "showbackground": true,
            "ticks": "",
            "zerolinecolor": "white"
           },
           "yaxis": {
            "backgroundcolor": "#E5ECF6",
            "gridcolor": "white",
            "gridwidth": 2,
            "linecolor": "white",
            "showbackground": true,
            "ticks": "",
            "zerolinecolor": "white"
           },
           "zaxis": {
            "backgroundcolor": "#E5ECF6",
            "gridcolor": "white",
            "gridwidth": 2,
            "linecolor": "white",
            "showbackground": true,
            "ticks": "",
            "zerolinecolor": "white"
           }
          },
          "shapedefaults": {
           "line": {
            "color": "#2a3f5f"
           }
          },
          "ternary": {
           "aaxis": {
            "gridcolor": "white",
            "linecolor": "white",
            "ticks": ""
           },
           "baxis": {
            "gridcolor": "white",
            "linecolor": "white",
            "ticks": ""
           },
           "bgcolor": "#E5ECF6",
           "caxis": {
            "gridcolor": "white",
            "linecolor": "white",
            "ticks": ""
           }
          },
          "title": {
           "x": 0.05
          },
          "xaxis": {
           "automargin": true,
           "gridcolor": "white",
           "linecolor": "white",
           "ticks": "",
           "title": {
            "standoff": 15
           },
           "zerolinecolor": "white",
           "zerolinewidth": 2
          },
          "yaxis": {
           "automargin": true,
           "gridcolor": "white",
           "linecolor": "white",
           "ticks": "",
           "title": {
            "standoff": 15
           },
           "zerolinecolor": "white",
           "zerolinewidth": 2
          }
         }
        },
        "title": {
         "text": "Point Cloud - split6lanes"
        }
       }
      }
     },
     "metadata": {},
     "output_type": "display_data"
    },
    {
     "data": {
      "application/vnd.plotly.v1+json": {
       "config": {
        "plotlyServerURL": "https://plot.ly"
       },
       "data": [
        {
         "hovertemplate": "x=%{x}<br>y=%{y}<br>z=%{z}<extra></extra>",
         "legendgroup": "",
         "marker": {
          "color": "#636efa",
          "opacity": 0.8,
          "size": 2,
          "symbol": "circle"
         },
         "mode": "markers",
         "name": "",
         "scene": "scene",
         "showlegend": false,
         "type": "scatter3d",
         "x": {
          "bdata": "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",
          "dtype": "f8"
         },
         "y": {
          "bdata": "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",
          "dtype": "f8"
         },
         "z": {
          "bdata": "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",
          "dtype": "f8"
         }
        }
       ],
       "layout": {
        "legend": {
         "tracegroupgap": 0
        },
        "scene": {
         "domain": {
          "x": [
           0,
           1
          ],
          "y": [
           0,
           1
          ]
         },
         "xaxis": {
          "title": {
           "text": "X"
          }
         },
         "yaxis": {
          "title": {
           "text": "Y"
          }
         },
         "zaxis": {
          "title": {
           "text": "Z"
          }
         }
        },
        "template": {
         "data": {
          "bar": [
           {
            "error_x": {
             "color": "#2a3f5f"
            },
            "error_y": {
             "color": "#2a3f5f"
            },
            "marker": {
             "line": {
              "color": "#E5ECF6",
              "width": 0.5
             },
             "pattern": {
              "fillmode": "overlay",
              "size": 10,
              "solidity": 0.2
             }
            },
            "type": "bar"
           }
          ],
          "barpolar": [
           {
            "marker": {
             "line": {
              "color": "#E5ECF6",
              "width": 0.5
             },
             "pattern": {
              "fillmode": "overlay",
              "size": 10,
              "solidity": 0.2
             }
            },
            "type": "barpolar"
           }
          ],
          "carpet": [
           {
            "aaxis": {
             "endlinecolor": "#2a3f5f",
             "gridcolor": "white",
             "linecolor": "white",
             "minorgridcolor": "white",
             "startlinecolor": "#2a3f5f"
            },
            "baxis": {
             "endlinecolor": "#2a3f5f",
             "gridcolor": "white",
             "linecolor": "white",
             "minorgridcolor": "white",
             "startlinecolor": "#2a3f5f"
            },
            "type": "carpet"
           }
          ],
          "choropleth": [
           {
            "colorbar": {
             "outlinewidth": 0,
             "ticks": ""
            },
            "type": "choropleth"
           }
          ],
          "contour": [
           {
            "colorbar": {
             "outlinewidth": 0,
             "ticks": ""
            },
            "colorscale": [
             [
              0,
              "#0d0887"
             ],
             [
              0.1111111111111111,
              "#46039f"
             ],
             [
              0.2222222222222222,
              "#7201a8"
             ],
             [
              0.3333333333333333,
              "#9c179e"
             ],
             [
              0.4444444444444444,
              "#bd3786"
             ],
             [
              0.5555555555555556,
              "#d8576b"
             ],
             [
              0.6666666666666666,
              "#ed7953"
             ],
             [
              0.7777777777777778,
              "#fb9f3a"
             ],
             [
              0.8888888888888888,
              "#fdca26"
             ],
             [
              1,
              "#f0f921"
             ]
            ],
            "type": "contour"
           }
          ],
          "contourcarpet": [
           {
            "colorbar": {
             "outlinewidth": 0,
             "ticks": ""
            },
            "type": "contourcarpet"
           }
          ],
          "heatmap": [
           {
            "colorbar": {
             "outlinewidth": 0,
             "ticks": ""
            },
            "colorscale": [
             [
              0,
              "#0d0887"
             ],
             [
              0.1111111111111111,
              "#46039f"
             ],
             [
              0.2222222222222222,
              "#7201a8"
             ],
             [
              0.3333333333333333,
              "#9c179e"
             ],
             [
              0.4444444444444444,
              "#bd3786"
             ],
             [
              0.5555555555555556,
              "#d8576b"
             ],
             [
              0.6666666666666666,
              "#ed7953"
             ],
             [
              0.7777777777777778,
              "#fb9f3a"
             ],
             [
              0.8888888888888888,
              "#fdca26"
             ],
             [
              1,
              "#f0f921"
             ]
            ],
            "type": "heatmap"
           }
          ],
          "histogram": [
           {
            "marker": {
             "pattern": {
              "fillmode": "overlay",
              "size": 10,
              "solidity": 0.2
             }
            },
            "type": "histogram"
           }
          ],
          "histogram2d": [
           {
            "colorbar": {
             "outlinewidth": 0,
             "ticks": ""
            },
            "colorscale": [
             [
              0,
              "#0d0887"
             ],
             [
              0.1111111111111111,
              "#46039f"
             ],
             [
              0.2222222222222222,
              "#7201a8"
             ],
             [
              0.3333333333333333,
              "#9c179e"
             ],
             [
              0.4444444444444444,
              "#bd3786"
             ],
             [
              0.5555555555555556,
              "#d8576b"
             ],
             [
              0.6666666666666666,
              "#ed7953"
             ],
             [
              0.7777777777777778,
              "#fb9f3a"
             ],
             [
              0.8888888888888888,
              "#fdca26"
             ],
             [
              1,
              "#f0f921"
             ]
            ],
            "type": "histogram2d"
           }
          ],
          "histogram2dcontour": [
           {
            "colorbar": {
             "outlinewidth": 0,
             "ticks": ""
            },
            "colorscale": [
             [
              0,
              "#0d0887"
             ],
             [
              0.1111111111111111,
              "#46039f"
             ],
             [
              0.2222222222222222,
              "#7201a8"
             ],
             [
              0.3333333333333333,
              "#9c179e"
             ],
             [
              0.4444444444444444,
              "#bd3786"
             ],
             [
              0.5555555555555556,
              "#d8576b"
             ],
             [
              0.6666666666666666,
              "#ed7953"
             ],
             [
              0.7777777777777778,
              "#fb9f3a"
             ],
             [
              0.8888888888888888,
              "#fdca26"
             ],
             [
              1,
              "#f0f921"
             ]
            ],
            "type": "histogram2dcontour"
           }
          ],
          "mesh3d": [
           {
            "colorbar": {
             "outlinewidth": 0,
             "ticks": ""
            },
            "type": "mesh3d"
           }
          ],
          "parcoords": [
           {
            "line": {
             "colorbar": {
              "outlinewidth": 0,
              "ticks": ""
             }
            },
            "type": "parcoords"
           }
          ],
          "pie": [
           {
            "automargin": true,
            "type": "pie"
           }
          ],
          "scatter": [
           {
            "fillpattern": {
             "fillmode": "overlay",
             "size": 10,
             "solidity": 0.2
            },
            "type": "scatter"
           }
          ],
          "scatter3d": [
           {
            "line": {
             "colorbar": {
              "outlinewidth": 0,
              "ticks": ""
             }
            },
            "marker": {
             "colorbar": {
              "outlinewidth": 0,
              "ticks": ""
             }
            },
            "type": "scatter3d"
           }
          ],
          "scattercarpet": [
           {
            "marker": {
             "colorbar": {
              "outlinewidth": 0,
              "ticks": ""
             }
            },
            "type": "scattercarpet"
           }
          ],
          "scattergeo": [
           {
            "marker": {
             "colorbar": {
              "outlinewidth": 0,
              "ticks": ""
             }
            },
            "type": "scattergeo"
           }
          ],
          "scattergl": [
           {
            "marker": {
             "colorbar": {
              "outlinewidth": 0,
              "ticks": ""
             }
            },
            "type": "scattergl"
           }
          ],
          "scattermap": [
           {
            "marker": {
             "colorbar": {
              "outlinewidth": 0,
              "ticks": ""
             }
            },
            "type": "scattermap"
           }
          ],
          "scattermapbox": [
           {
            "marker": {
             "colorbar": {
              "outlinewidth": 0,
              "ticks": ""
             }
            },
            "type": "scattermapbox"
           }
          ],
          "scatterpolar": [
           {
            "marker": {
             "colorbar": {
              "outlinewidth": 0,
              "ticks": ""
             }
            },
            "type": "scatterpolar"
           }
          ],
          "scatterpolargl": [
           {
            "marker": {
             "colorbar": {
              "outlinewidth": 0,
              "ticks": ""
             }
            },
            "type": "scatterpolargl"
           }
          ],
          "scatterternary": [
           {
            "marker": {
             "colorbar": {
              "outlinewidth": 0,
              "ticks": ""
             }
            },
            "type": "scatterternary"
           }
          ],
          "surface": [
           {
            "colorbar": {
             "outlinewidth": 0,
             "ticks": ""
            },
            "colorscale": [
             [
              0,
              "#0d0887"
             ],
             [
              0.1111111111111111,
              "#46039f"
             ],
             [
              0.2222222222222222,
              "#7201a8"
             ],
             [
              0.3333333333333333,
              "#9c179e"
             ],
             [
              0.4444444444444444,
              "#bd3786"
             ],
             [
              0.5555555555555556,
              "#d8576b"
             ],
             [
              0.6666666666666666,
              "#ed7953"
             ],
             [
              0.7777777777777778,
              "#fb9f3a"
             ],
             [
              0.8888888888888888,
              "#fdca26"
             ],
             [
              1,
              "#f0f921"
             ]
            ],
            "type": "surface"
           }
          ],
          "table": [
           {
            "cells": {
             "fill": {
              "color": "#EBF0F8"
             },
             "line": {
              "color": "white"
             }
            },
            "header": {
             "fill": {
              "color": "#C8D4E3"
             },
             "line": {
              "color": "white"
             }
            },
            "type": "table"
           }
          ]
         },
         "layout": {
          "annotationdefaults": {
           "arrowcolor": "#2a3f5f",
           "arrowhead": 0,
           "arrowwidth": 1
          },
          "autotypenumbers": "strict",
          "coloraxis": {
           "colorbar": {
            "outlinewidth": 0,
            "ticks": ""
           }
          },
          "colorscale": {
           "diverging": [
            [
             0,
             "#8e0152"
            ],
            [
             0.1,
             "#c51b7d"
            ],
            [
             0.2,
             "#de77ae"
            ],
            [
             0.3,
             "#f1b6da"
            ],
            [
             0.4,
             "#fde0ef"
            ],
            [
             0.5,
             "#f7f7f7"
            ],
            [
             0.6,
             "#e6f5d0"
            ],
            [
             0.7,
             "#b8e186"
            ],
            [
             0.8,
             "#7fbc41"
            ],
            [
             0.9,
             "#4d9221"
            ],
            [
             1,
             "#276419"
            ]
           ],
           "sequential": [
            [
             0,
             "#0d0887"
            ],
            [
             0.1111111111111111,
             "#46039f"
            ],
            [
             0.2222222222222222,
             "#7201a8"
            ],
            [
             0.3333333333333333,
             "#9c179e"
            ],
            [
             0.4444444444444444,
             "#bd3786"
            ],
            [
             0.5555555555555556,
             "#d8576b"
            ],
            [
             0.6666666666666666,
             "#ed7953"
            ],
            [
             0.7777777777777778,
             "#fb9f3a"
            ],
            [
             0.8888888888888888,
             "#fdca26"
            ],
            [
             1,
             "#f0f921"
            ]
           ],
           "sequentialminus": [
            [
             0,
             "#0d0887"
            ],
            [
             0.1111111111111111,
             "#46039f"
            ],
            [
             0.2222222222222222,
             "#7201a8"
            ],
            [
             0.3333333333333333,
             "#9c179e"
            ],
            [
             0.4444444444444444,
             "#bd3786"
            ],
            [
             0.5555555555555556,
             "#d8576b"
            ],
            [
             0.6666666666666666,
             "#ed7953"
            ],
            [
             0.7777777777777778,
             "#fb9f3a"
            ],
            [
             0.8888888888888888,
             "#fdca26"
            ],
            [
             1,
             "#f0f921"
            ]
           ]
          },
          "colorway": [
           "#636efa",
           "#EF553B",
           "#00cc96",
           "#ab63fa",
           "#FFA15A",
           "#19d3f3",
           "#FF6692",
           "#B6E880",
           "#FF97FF",
           "#FECB52"
          ],
          "font": {
           "color": "#2a3f5f"
          },
          "geo": {
           "bgcolor": "white",
           "lakecolor": "white",
           "landcolor": "#E5ECF6",
           "showlakes": true,
           "showland": true,
           "subunitcolor": "white"
          },
          "hoverlabel": {
           "align": "left"
          },
          "hovermode": "closest",
          "mapbox": {
           "style": "light"
          },
          "paper_bgcolor": "white",
          "plot_bgcolor": "#E5ECF6",
          "polar": {
           "angularaxis": {
            "gridcolor": "white",
            "linecolor": "white",
            "ticks": ""
           },
           "bgcolor": "#E5ECF6",
           "radialaxis": {
            "gridcolor": "white",
            "linecolor": "white",
            "ticks": ""
           }
          },
          "scene": {
           "xaxis": {
            "backgroundcolor": "#E5ECF6",
            "gridcolor": "white",
            "gridwidth": 2,
            "linecolor": "white",
            "showbackground": true,
            "ticks": "",
            "zerolinecolor": "white"
           },
           "yaxis": {
            "backgroundcolor": "#E5ECF6",
            "gridcolor": "white",
            "gridwidth": 2,
            "linecolor": "white",
            "showbackground": true,
            "ticks": "",
            "zerolinecolor": "white"
           },
           "zaxis": {
            "backgroundcolor": "#E5ECF6",
            "gridcolor": "white",
            "gridwidth": 2,
            "linecolor": "white",
            "showbackground": true,
            "ticks": "",
            "zerolinecolor": "white"
           }
          },
          "shapedefaults": {
           "line": {
            "color": "#2a3f5f"
           }
          },
          "ternary": {
           "aaxis": {
            "gridcolor": "white",
            "linecolor": "white",
            "ticks": ""
           },
           "baxis": {
            "gridcolor": "white",
            "linecolor": "white",
            "ticks": ""
           },
           "bgcolor": "#E5ECF6",
           "caxis": {
            "gridcolor": "white",
            "linecolor": "white",
            "ticks": ""
           }
          },
          "title": {
           "x": 0.05
          },
          "xaxis": {
           "automargin": true,
           "gridcolor": "white",
           "linecolor": "white",
           "ticks": "",
           "title": {
            "standoff": 15
           },
           "zerolinecolor": "white",
           "zerolinewidth": 2
          },
          "yaxis": {
           "automargin": true,
           "gridcolor": "white",
           "linecolor": "white",
           "ticks": "",
           "title": {
            "standoff": 15
           },
           "zerolinecolor": "white",
           "zerolinewidth": 2
          }
         }
        },
        "title": {
         "text": "Point Cloud - transition"
        }
       }
      }
     },
     "metadata": {},
     "output_type": "display_data"
    },
    {
     "name": "stdout",
     "output_type": "stream",
     "text": [
      "Shape of smallest point cloud: (510, 23)\n",
      "Shape of largest point cloud: (16661, 23)\n",
      "Dataset shape: (1425, 11220), Labels shape: (1425,)\n"
     ]
    }
   ],
   "source": [
    "# Load all point clouds from each category\n",
    "labels = [\"2lanes\", \"3lanes\", \"crossing\", \"split4lanes\", \"split6lanes\", \"transition\"]\n",
    "dataset = load_point_clouds(labels)\n",
    "print(f\"Loaded {len(dataset)} point clouds from {len(labels)} categories.\")\n",
    "\n",
    "# Optionally visualize the first point cloud from each category\n",
    "for i, label in enumerate(labels):\n",
    "    if dataset:\n",
    "        visualize_point_cloud_plotly(dataset[i], title=f\"Point Cloud - {label}\")\n",
    "    else:\n",
    "        print(f\"No point clouds found for label: {label}\")\n",
    "\n",
    "# Downsample the point clouds to the size of the first point cloud\n",
    "dataset = downsample_point_clouds(dataset) \n",
    "# Prepare feature vectors and labels\n",
    "X, y = prepare_feature_vectors(dataset)\n",
    "# Print the shape of the dataset\n",
    "print(f\"Dataset shape: {X.shape}, Labels shape: {y.shape}\")\n",
    "# Perform a train-test-split\n",
    "X_train, X_test, y_train, y_test = train_test_split(X, y, random_state=42)"
   ]
  },
  {
   "cell_type": "code",
   "execution_count": 25,
   "id": "ea4be251",
   "metadata": {},
   "outputs": [
    {
     "name": "stdout",
     "output_type": "stream",
     "text": [
      "Random Forest Classifier Accuracy: 59.38375350140056%\n",
      "Cross-Validation results: Mean accuracy: 56.35087719298245%, Standard deviation: 1.290159741112293%\n"
     ]
    }
   ],
   "source": [
    "# --- Random Forest Classifier with Cross-Validation ---\n",
    "\n",
    "# Initialize the Random Forest Classifier with specified parameters\n",
    "randomforest = RandomForestClassifier(n_estimators = 300, criterion = \"gini\", max_depth=3, random_state=0)\n",
    "# Fit the model to the training data\n",
    "randomforest.fit(X_train, y_train)\n",
    "# Evaluate the model on the test data\n",
    "y_pred = randomforest.predict(X_test)\n",
    "# Calculate the accuracy of the model\n",
    "acc_rf = accuracy_score(y_test, y_pred)\n",
    "print(f\"Random Forest Classifier Accuracy: {acc_rf * 100}%\")\n",
    "\n",
    "# Perform cross-validation (CV) with 3 folds\n",
    "# Initialize KFold with 3 splits, no random state, and shuffling enabled\n",
    "cv = KFold(n_splits=3, random_state=None, shuffle=True)\n",
    "# Use the cross_val_score function to perform CV on the training data \n",
    "scores_rf = cross_val_score(randomforest, X,  y, scoring='accuracy', cv=cv, n_jobs=-1)\n",
    "# print out the mean accuracy and standard deviation over the 3 folds\n",
    "cv_mean = np.mean(np.array(scores_rf))\n",
    "cv_std = np.std(np.array(scores_rf))\n",
    "print(f\"Cross-Validation results: Mean accuracy: {cv_mean * 100}%, Standard deviation: {cv_std * 100}%\")"
   ]
  },
  {
   "cell_type": "code",
   "execution_count": 26,
   "id": "129ab73b",
   "metadata": {},
   "outputs": [
    {
     "name": "stderr",
     "output_type": "stream",
     "text": [
      "d:\\Python\\lib\\site-packages\\sklearn\\ensemble\\_weight_boosting.py:519: FutureWarning:\n",
      "\n",
      "The parameter 'algorithm' is deprecated in 1.6 and has no effect. It will be removed in version 1.8.\n",
      "\n"
     ]
    },
    {
     "name": "stdout",
     "output_type": "stream",
     "text": [
      "AdaBoost Classifier Accuracy: 50.98039215686274%\n",
      "Cross-Validation results: Mean accuracy: 44.98245614035088%, Standard deviation: 0.694701399060467%\n"
     ]
    }
   ],
   "source": [
    "# --- AdaBoost Classifier ---\n",
    "\n",
    "# Initialize the AdaBoost Classifier with the Decision Tree as base estimator\n",
    "adaboost = AdaBoostClassifier(n_estimators = 100, algorithm = \"SAMME\")\n",
    "# Fit the model to the training data\n",
    "adaboost.fit(X_train, y_train)\n",
    "# Predict the test set\n",
    "y_pred = adaboost.predict(X_test)\n",
    "# Calculate the accuracy of the model\n",
    "acc_adaboost = accuracy_score(y_test, y_pred)\n",
    "print(f\"AdaBoost Classifier Accuracy: {acc_adaboost * 100}%\")\n",
    "\n",
    "# Perform cross-validation (CV) with 3 folds\n",
    "# Initialize KFold with 3 splits, no random state, and shuffling enabled\n",
    "cv = KFold(n_splits=3, random_state=None, shuffle=True)\n",
    "# Use the cross_val_score function to perform CV on the training data\n",
    "scores_adaboost = cross_val_score(adaboost, X,  y, scoring='accuracy', cv=cv, n_jobs=-1)\n",
    "# print out the mean accuracy and standard deviation over the 3 folds\n",
    "cv_mean = np.mean(np.array(scores_adaboost))\n",
    "cv_std = np.std(np.array(scores_adaboost))\n",
    "print(f\"Cross-Validation results: Mean accuracy: {cv_mean * 100}%, Standard deviation: {cv_std * 100}%\")"
   ]
  },
  {
   "cell_type": "code",
   "execution_count": 27,
   "id": "389584d1",
   "metadata": {},
   "outputs": [
    {
     "name": "stdout",
     "output_type": "stream",
     "text": [
      "Support Vector Classifier (One-vs-One Strategy) Accuracy : 43.69747899159664 %\n",
      "\n",
      "\n",
      "Cross-Validation results: Mean accuracy: 39.578947368421055%, Standard deviation: 1.0313641022244975%\n"
     ]
    }
   ],
   "source": [
    "# --- Support Vector Machine Classifier with One-vs-One Strategy ---\n",
    "\n",
    "# Apporach 1 \n",
    "svc_ovo  = OneVsOneClassifier(SVC(C=1, kernel=\"rbf\"))\n",
    "# Approach 2\n",
    "#clf = SVC(C=0.8, kernel=\"sigmoid\", decision_function_shape= \"ovo\")\n",
    "# Fit the model\n",
    "svc_ovo.fit(X_train,y_train)\n",
    "# Predict the test set\n",
    "predictions = svc_ovo .predict(X_test)\n",
    "# Compute accuracy\n",
    "acc_svc = accuracy_score(y_test, predictions)\n",
    "print(f\"Support Vector Classifier (One-vs-One Strategy) Accuracy : {acc_svc * 100} %\\n\\n\")\n",
    "\n",
    "# Perform cross-validation (CV) with 3 folds\n",
    "# Initialize KFold with 3 splits, no random state, and shuffling enabled\n",
    "cv = KFold(n_splits=3, random_state=None, shuffle=True)\n",
    "# Use the cross_val_score function to perform CV on the training data \n",
    "scores_svc = cross_val_score(svc_ovo, X,  y, scoring='accuracy', cv=cv, n_jobs=-1)\n",
    "# print out the mean accuracy and standard deviation over the 3 folds\n",
    "cv_mean = np.mean(np.array(scores_svc))\n",
    "cv_std = np.std(np.array(scores_svc))\n",
    "print(f\"Cross-Validation results: Mean accuracy: {cv_mean * 100}%, Standard deviation: {cv_std * 100}%\")"
   ]
  },
  {
   "cell_type": "code",
   "execution_count": 29,
   "id": "7660f461",
   "metadata": {},
   "outputs": [
    {
     "name": "stdout",
     "output_type": "stream",
     "text": [
      "            Model  Accuracy  Cross-Validation Mean  Cross-Validation Std\n",
      "0   Random Forest  0.593838               0.563509              0.012902\n",
      "1       Ada Boost  0.509804               0.449825              0.006947\n",
      "2  SVM One-vs-One  0.436975               0.395789              0.010314\n"
     ]
    }
   ],
   "source": [
    "# Create a table with the results\n",
    "results = pd.DataFrame({\n",
    "    'Model': ['Random Forest', 'Ada Boost', 'SVM One-vs-One'],\n",
    "    'Accuracy': [acc_rf, acc_adaboost, acc_svc],\n",
    "    'Cross-Validation Mean': [np.mean(np.array(scores_rf)), np.mean(np.array(scores_adaboost)), np.mean(np.array(scores_svc))],\n",
    "    'Cross-Validation Std': [np.std(np.array(scores_rf)), np.std(np.array(scores_adaboost)), np.std(np.array(scores_svc))]\n",
    "})  \n",
    "# Display the results table\n",
    "print(results)"
   ]
  },
  {
   "cell_type": "markdown",
   "id": "ed34e070",
   "metadata": {},
   "source": [
    "# Convolutional Neural Network"
   ]
  }
 ],
 "metadata": {
  "kernelspec": {
   "display_name": "Python 3",
   "language": "python",
   "name": "python3"
  },
  "language_info": {
   "codemirror_mode": {
    "name": "ipython",
    "version": 3
   },
   "file_extension": ".py",
   "mimetype": "text/x-python",
   "name": "python",
   "nbconvert_exporter": "python",
   "pygments_lexer": "ipython3",
   "version": "3.9.13"
  }
 },
 "nbformat": 4,
 "nbformat_minor": 5
}
